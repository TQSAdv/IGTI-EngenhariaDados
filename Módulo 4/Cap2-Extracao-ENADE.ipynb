{
 "cells": [
  {
   "cell_type": "markdown",
   "source": [
    "# Extração de Dados - ENADE - INEP _ Ministério da Educação\r\n"
   ],
   "metadata": {}
  },
  {
   "cell_type": "markdown",
   "source": [
    "## Aula 2.1\r\n"
   ],
   "metadata": {}
  }
 ],
 "metadata": {
  "orig_nbformat": 4,
  "language_info": {
   "name": "python"
  }
 },
 "nbformat": 4,
 "nbformat_minor": 2
}