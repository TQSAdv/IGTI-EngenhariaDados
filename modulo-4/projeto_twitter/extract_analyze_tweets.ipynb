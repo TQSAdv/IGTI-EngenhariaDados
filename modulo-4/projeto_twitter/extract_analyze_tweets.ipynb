{
 "cells": [
  {
   "cell_type": "markdown",
   "source": [
    "# Extrai twitters"
   ],
   "metadata": {}
  },
  {
   "cell_type": "code",
   "execution_count": 1,
   "source": [
    "!pip install tweepy datetime"
   ],
   "outputs": [
    {
     "output_type": "stream",
     "name": "stdout",
     "text": [
      "Requirement already satisfied: tweepy in c:\\users\\nobre\\anaconda3\\lib\\site-packages (3.10.0)\n",
      "Requirement already satisfied: datetime in c:\\users\\nobre\\anaconda3\\lib\\site-packages (4.3)\n",
      "Requirement already satisfied: zope.interface in c:\\users\\nobre\\anaconda3\\lib\\site-packages (from datetime) (5.3.0)\n",
      "Requirement already satisfied: pytz in c:\\users\\nobre\\anaconda3\\lib\\site-packages (from datetime) (2021.1)\n",
      "Requirement already satisfied: six>=1.10.0 in c:\\users\\nobre\\anaconda3\\lib\\site-packages (from tweepy) (1.15.0)\n",
      "Requirement already satisfied: requests-oauthlib>=0.7.0 in c:\\users\\nobre\\anaconda3\\lib\\site-packages (from tweepy) (1.3.0)\n",
      "Requirement already satisfied: requests[socks]>=2.11.1 in c:\\users\\nobre\\anaconda3\\lib\\site-packages (from tweepy) (2.25.1)\n",
      "Requirement already satisfied: oauthlib>=3.0.0 in c:\\users\\nobre\\anaconda3\\lib\\site-packages (from requests-oauthlib>=0.7.0->tweepy) (3.1.1)\n",
      "Requirement already satisfied: certifi>=2017.4.17 in c:\\users\\nobre\\anaconda3\\lib\\site-packages (from requests[socks]>=2.11.1->tweepy) (2020.12.5)\n",
      "Requirement already satisfied: chardet<5,>=3.0.2 in c:\\users\\nobre\\anaconda3\\lib\\site-packages (from requests[socks]>=2.11.1->tweepy) (4.0.0)\n",
      "Requirement already satisfied: idna<3,>=2.5 in c:\\users\\nobre\\anaconda3\\lib\\site-packages (from requests[socks]>=2.11.1->tweepy) (2.10)\n",
      "Requirement already satisfied: urllib3<1.27,>=1.21.1 in c:\\users\\nobre\\anaconda3\\lib\\site-packages (from requests[socks]>=2.11.1->tweepy) (1.26.4)\n",
      "Requirement already satisfied: PySocks!=1.5.7,>=1.5.6 in c:\\users\\nobre\\anaconda3\\lib\\site-packages (from requests[socks]>=2.11.1->tweepy) (1.7.1)\n",
      "Requirement already satisfied: setuptools in c:\\users\\nobre\\anaconda3\\lib\\site-packages (from zope.interface->datetime) (52.0.0.post20210125)\n"
     ]
    }
   ],
   "metadata": {}
  },
  {
   "cell_type": "markdown",
   "source": [
    "# Play!"
   ],
   "metadata": {}
  },
  {
   "cell_type": "code",
   "execution_count": 2,
   "source": [
    "!python get_tweets.py"
   ],
   "outputs": [
    {
     "output_type": "stream",
     "name": "stdout",
     "text": [
      "^C\n"
     ]
    }
   ],
   "metadata": {}
  },
  {
   "cell_type": "markdown",
   "source": [
    "## Entendendo a estrutura do Json"
   ],
   "metadata": {}
  },
  {
   "cell_type": "code",
   "execution_count": 9,
   "source": [
    "import json"
   ],
   "outputs": [],
   "metadata": {}
  },
  {
   "cell_type": "code",
   "execution_count": 10,
   "source": [
    "#Abrir o arquivo de tweets e ler as linhas\r\n",
    "\r\n",
    "with open(\"D:\\ONEDRIVE\\EDUCACAO\\IGTI\\BOOTCAMP ENGENHARIA DE DADOS\\GitHub\\modulo-4\\projeto_twitter\\collections_tweets\\collected_tweets2021-09-20-13-01-27.txt\", 'r') as file:\r\n",
    "    tweets = file.readlines()\r\n",
    "\r\n"
   ],
   "outputs": [],
   "metadata": {}
  },
  {
   "cell_type": "code",
   "execution_count": 11,
   "source": [
    "tweets[0]"
   ],
   "outputs": [
    {
     "output_type": "execute_result",
     "data": {
      "text/plain": [
       "'\"{\\\\\"created_at\\\\\":\\\\\"Mon Sep 20 16:00:56 +0000 2021\\\\\",\\\\\"id\\\\\":1439982921209851906,\\\\\"id_str\\\\\":\\\\\"1439982921209851906\\\\\",\\\\\"text\\\\\":\\\\\"RT @bykowicz: \\\\\\\\u201cIn the first six months of 2021, Mr. Trump stockpiled $102 million in political cash. He reported no donations to Republican\\\\\\\\u2026\\\\\",\\\\\"source\\\\\":\\\\\"\\\\\\\\u003ca href=\\\\\\\\\\\\\"https:\\\\\\\\/\\\\\\\\/mobile.twitter.com\\\\\\\\\\\\\" rel=\\\\\\\\\\\\\"nofollow\\\\\\\\\\\\\"\\\\\\\\u003eTwitter Web App\\\\\\\\u003c\\\\\\\\/a\\\\\\\\u003e\\\\\",\\\\\"truncated\\\\\":false,\\\\\"in_reply_to_status_id\\\\\":null,\\\\\"in_reply_to_status_id_str\\\\\":null,\\\\\"in_reply_to_user_id\\\\\":null,\\\\\"in_reply_to_user_id_str\\\\\":null,\\\\\"in_reply_to_screen_name\\\\\":null,\\\\\"user\\\\\":{\\\\\"id\\\\\":18812010,\\\\\"id_str\\\\\":\\\\\"18812010\\\\\",\\\\\"name\\\\\":\\\\\"Roseann\\\\\\\\ud83e\\\\\\\\udd18 \\\\\\\\ud83c\\\\\\\\uddfa\\\\\\\\ud83c\\\\\\\\uddf8\\\\\",\\\\\"screen_name\\\\\":\\\\\"number9r\\\\\",\\\\\"location\\\\\":\\\\\"Chicagoland\\\\\",\\\\\"url\\\\\":null,\\\\\"description\\\\\":\\\\\"\\\\\\\\u201c...fuck you for being there\\\\\\\\u201d#NeverForgetJ6\\\\\\\\n\\\\\\\\ud83d\\\\\\\\udc95 LedZep\\\\\\\\ud83d\\\\\\\\udc95\\\\\\\\n\\\\\\\\ud83d\\\\\\\\udd95\\\\\\\\u0422\\\\\\\\u0440\\\\\\\\u0430\\\\\\\\u043c\\\\\\\\u043f \\\\\\\\ud83d\\\\\\\\udc89Microchipped & Magnetized \\\\\\\\ud83e\\\\\\\\uddf2\\\\\",\\\\\"translator_type\\\\\":\\\\\"regular\\\\\",\\\\\"protected\\\\\":false,\\\\\"verified\\\\\":false,\\\\\"followers_count\\\\\":1121,\\\\\"friends_count\\\\\":779,\\\\\"listed_count\\\\\":19,\\\\\"favourites_count\\\\\":1614,\\\\\"statuses_count\\\\\":208236,\\\\\"created_at\\\\\":\\\\\"Fri Jan 09 19:32:18 +0000 2009\\\\\",\\\\\"utc_offset\\\\\":null,\\\\\"time_zone\\\\\":null,\\\\\"geo_enabled\\\\\":false,\\\\\"lang\\\\\":null,\\\\\"contributors_enabled\\\\\":false,\\\\\"is_translator\\\\\":false,\\\\\"profile_background_color\\\\\":\\\\\"EBEBEB\\\\\",\\\\\"profile_background_image_url\\\\\":\\\\\"http:\\\\\\\\/\\\\\\\\/abs.twimg.com\\\\\\\\/images\\\\\\\\/themes\\\\\\\\/theme7\\\\\\\\/bg.gif\\\\\",\\\\\"profile_background_image_url_https\\\\\":\\\\\"https:\\\\\\\\/\\\\\\\\/abs.twimg.com\\\\\\\\/images\\\\\\\\/themes\\\\\\\\/theme7\\\\\\\\/bg.gif\\\\\",\\\\\"profile_background_tile\\\\\":true,\\\\\"profile_link_color\\\\\":\\\\\"E81C4F\\\\\",\\\\\"profile_sidebar_border_color\\\\\":\\\\\"000000\\\\\",\\\\\"profile_sidebar_fill_color\\\\\":\\\\\"000000\\\\\",\\\\\"profile_text_color\\\\\":\\\\\"000000\\\\\",\\\\\"profile_use_background_image\\\\\":true,\\\\\"profile_image_url\\\\\":\\\\\"http:\\\\\\\\/\\\\\\\\/pbs.twimg.com\\\\\\\\/profile_images\\\\\\\\/1439307637066276869\\\\\\\\/KUogrgw4_normal.jpg\\\\\",\\\\\"profile_image_url_https\\\\\":\\\\\"https:\\\\\\\\/\\\\\\\\/pbs.twimg.com\\\\\\\\/profile_images\\\\\\\\/1439307637066276869\\\\\\\\/KUogrgw4_normal.jpg\\\\\",\\\\\"profile_banner_url\\\\\":\\\\\"https:\\\\\\\\/\\\\\\\\/pbs.twimg.com\\\\\\\\/profile_banners\\\\\\\\/18812010\\\\\\\\/1631992953\\\\\",\\\\\"default_profile\\\\\":false,\\\\\"default_profile_image\\\\\":false,\\\\\"following\\\\\":null,\\\\\"follow_request_sent\\\\\":null,\\\\\"notifications\\\\\":null,\\\\\"withheld_in_countries\\\\\":[]},\\\\\"geo\\\\\":null,\\\\\"coordinates\\\\\":null,\\\\\"place\\\\\":null,\\\\\"contributors\\\\\":null,\\\\\"retweeted_status\\\\\":{\\\\\"created_at\\\\\":\\\\\"Mon Sep 20 15:31:18 +0000 2021\\\\\",\\\\\"id\\\\\":1439975461887660037,\\\\\"id_str\\\\\":\\\\\"1439975461887660037\\\\\",\\\\\"text\\\\\":\\\\\"\\\\\\\\u201cIn the first six months of 2021, Mr. Trump stockpiled $102 million in political cash. He reported no donations to\\\\\\\\u2026 https:\\\\\\\\/\\\\\\\\/t.co\\\\\\\\/v3Zt7tMeGP\\\\\",\\\\\"source\\\\\":\\\\\"\\\\\\\\u003ca href=\\\\\\\\\\\\\"http:\\\\\\\\/\\\\\\\\/twitter.com\\\\\\\\/download\\\\\\\\/iphone\\\\\\\\\\\\\" rel=\\\\\\\\\\\\\"nofollow\\\\\\\\\\\\\"\\\\\\\\u003eTwitter for iPhone\\\\\\\\u003c\\\\\\\\/a\\\\\\\\u003e\\\\\",\\\\\"truncated\\\\\":true,\\\\\"in_reply_to_status_id\\\\\":null,\\\\\"in_reply_to_status_id_str\\\\\":null,\\\\\"in_reply_to_user_id\\\\\":null,\\\\\"in_reply_to_user_id_str\\\\\":null,\\\\\"in_reply_to_screen_name\\\\\":null,\\\\\"user\\\\\":{\\\\\"id\\\\\":37721714,\\\\\"id_str\\\\\":\\\\\"37721714\\\\\",\\\\\"name\\\\\":\\\\\"Julie Bykowicz\\\\\",\\\\\"screen_name\\\\\":\\\\\"bykowicz\\\\\",\\\\\"location\\\\\":\\\\\"Baltimore, MD\\\\\",\\\\\"url\\\\\":\\\\\"https:\\\\\\\\/\\\\\\\\/www.wsj.com\\\\\\\\/news\\\\\\\\/author\\\\\\\\/8658\\\\\",\\\\\"description\\\\\":\\\\\"Wall Street Journal (@WSJ), money and politics. Priors: AP, Bloomberg, The Baltimore Sun\\\\\",\\\\\"translator_type\\\\\":\\\\\"none\\\\\",\\\\\"protected\\\\\":false,\\\\\"verified\\\\\":true,\\\\\"followers_count\\\\\":20996,\\\\\"friends_count\\\\\":946,\\\\\"listed_count\\\\\":917,\\\\\"favourites_count\\\\\":11186,\\\\\"statuses_count\\\\\":25837,\\\\\"created_at\\\\\":\\\\\"Mon May 04 18:33:35 +0000 2009\\\\\",\\\\\"utc_offset\\\\\":null,\\\\\"time_zone\\\\\":null,\\\\\"geo_enabled\\\\\":true,\\\\\"lang\\\\\":null,\\\\\"contributors_enabled\\\\\":false,\\\\\"is_translator\\\\\":false,\\\\\"profile_background_color\\\\\":\\\\\"C0DEED\\\\\",\\\\\"profile_background_image_url\\\\\":\\\\\"http:\\\\\\\\/\\\\\\\\/abs.twimg.com\\\\\\\\/images\\\\\\\\/themes\\\\\\\\/theme1\\\\\\\\/bg.png\\\\\",\\\\\"profile_background_image_url_https\\\\\":\\\\\"https:\\\\\\\\/\\\\\\\\/abs.twimg.com\\\\\\\\/images\\\\\\\\/themes\\\\\\\\/theme1\\\\\\\\/bg.png\\\\\",\\\\\"profile_background_tile\\\\\":false,\\\\\"profile_link_color\\\\\":\\\\\"1DA1F2\\\\\",\\\\\"profile_sidebar_border_color\\\\\":\\\\\"C0DEED\\\\\",\\\\\"profile_sidebar_fill_color\\\\\":\\\\\"DDEEF6\\\\\",\\\\\"profile_text_color\\\\\":\\\\\"333333\\\\\",\\\\\"profile_use_background_image\\\\\":true,\\\\\"profile_image_url\\\\\":\\\\\"http:\\\\\\\\/\\\\\\\\/pbs.twimg.com\\\\\\\\/profile_images\\\\\\\\/1392555875252977669\\\\\\\\/RnlCNmwW_normal.jpg\\\\\",\\\\\"profile_image_url_https\\\\\":\\\\\"https:\\\\\\\\/\\\\\\\\/pbs.twimg.com\\\\\\\\/profile_images\\\\\\\\/1392555875252977669\\\\\\\\/RnlCNmwW_normal.jpg\\\\\",\\\\\"profile_banner_url\\\\\":\\\\\"https:\\\\\\\\/\\\\\\\\/pbs.twimg.com\\\\\\\\/profile_banners\\\\\\\\/37721714\\\\\\\\/1620846169\\\\\",\\\\\"default_profile\\\\\":true,\\\\\"default_profile_image\\\\\":false,\\\\\"following\\\\\":null,\\\\\"follow_request_sent\\\\\":null,\\\\\"notifications\\\\\":null,\\\\\"withheld_in_countries\\\\\":[]},\\\\\"geo\\\\\":null,\\\\\"coordinates\\\\\":null,\\\\\"place\\\\\":null,\\\\\"contributors\\\\\":null,\\\\\"is_quote_status\\\\\":false,\\\\\"extended_tweet\\\\\":{\\\\\"full_text\\\\\":\\\\\"\\\\\\\\u201cIn the first six months of 2021, Mr. Trump stockpiled $102 million in political cash. He reported no donations to Republican campaigns during that time.\\\\\\\\u201d\\\\\\\\nvia \\\\\\\\u2066@lindsaywise\\\\\\\\u2069 \\\\\\\\u2066@MichaelCBender\\\\\\\\u2069  https:\\\\\\\\/\\\\\\\\/t.co\\\\\\\\/BG0AGtwsXD\\\\\",\\\\\"display_text_range\\\\\":[0,216],\\\\\"entities\\\\\":{\\\\\"hashtags\\\\\":[],\\\\\"urls\\\\\":[{\\\\\"url\\\\\":\\\\\"https:\\\\\\\\/\\\\\\\\/t.co\\\\\\\\/BG0AGtwsXD\\\\\",\\\\\"expanded_url\\\\\":\\\\\"https:\\\\\\\\/\\\\\\\\/www.wsj.com\\\\\\\\/articles\\\\\\\\/trump-looks-for-challenger-to-depose-mitch-mcconnell-as-split-widens-11632060002\\\\\",\\\\\"display_url\\\\\":\\\\\"wsj.com\\\\\\\\/articles\\\\\\\\/trump\\\\\\\\u2026\\\\\",\\\\\"indices\\\\\":[193,216]}],\\\\\"user_mentions\\\\\":[{\\\\\"screen_name\\\\\":\\\\\"lindsaywise\\\\\",\\\\\"name\\\\\":\\\\\"Lindsay Wise\\\\\",\\\\\"id\\\\\":37865281,\\\\\"id_str\\\\\":\\\\\"37865281\\\\\",\\\\\"indices\\\\\":[160,172]},{\\\\\"screen_name\\\\\":\\\\\"MichaelCBender\\\\\",\\\\\"name\\\\\":\\\\\"Michael C. Bender\\\\\",\\\\\"id\\\\\":54622050,\\\\\"id_str\\\\\":\\\\\"54622050\\\\\",\\\\\"indices\\\\\":[175,190]}],\\\\\"symbols\\\\\":[]}},\\\\\"quote_count\\\\\":0,\\\\\"reply_count\\\\\":1,\\\\\"retweet_count\\\\\":8,\\\\\"favorite_count\\\\\":7,\\\\\"entities\\\\\":{\\\\\"hashtags\\\\\":[],\\\\\"urls\\\\\":[{\\\\\"url\\\\\":\\\\\"https:\\\\\\\\/\\\\\\\\/t.co\\\\\\\\/v3Zt7tMeGP\\\\\",\\\\\"expanded_url\\\\\":\\\\\"https:\\\\\\\\/\\\\\\\\/twitter.com\\\\\\\\/i\\\\\\\\/web\\\\\\\\/status\\\\\\\\/1439975461887660037\\\\\",\\\\\"display_url\\\\\":\\\\\"twitter.com\\\\\\\\/i\\\\\\\\/web\\\\\\\\/status\\\\\\\\/1\\\\\\\\u2026\\\\\",\\\\\"indices\\\\\":[116,139]}],\\\\\"user_mentions\\\\\":[],\\\\\"symbols\\\\\":[]},\\\\\"favorited\\\\\":false,\\\\\"retweeted\\\\\":false,\\\\\"possibly_sensitive\\\\\":false,\\\\\"filter_level\\\\\":\\\\\"low\\\\\",\\\\\"lang\\\\\":\\\\\"en\\\\\"},\\\\\"is_quote_status\\\\\":false,\\\\\"quote_count\\\\\":0,\\\\\"reply_count\\\\\":0,\\\\\"retweet_count\\\\\":0,\\\\\"favorite_count\\\\\":0,\\\\\"entities\\\\\":{\\\\\"hashtags\\\\\":[],\\\\\"urls\\\\\":[],\\\\\"user_mentions\\\\\":[{\\\\\"screen_name\\\\\":\\\\\"bykowicz\\\\\",\\\\\"name\\\\\":\\\\\"Julie Bykowicz\\\\\",\\\\\"id\\\\\":37721714,\\\\\"id_str\\\\\":\\\\\"37721714\\\\\",\\\\\"indices\\\\\":[3,12]}],\\\\\"symbols\\\\\":[]},\\\\\"favorited\\\\\":false,\\\\\"retweeted\\\\\":false,\\\\\"filter_level\\\\\":\\\\\"low\\\\\",\\\\\"lang\\\\\":\\\\\"en\\\\\",\\\\\"timestamp_ms\\\\\":\\\\\"1632153656662\\\\\"}\\\\r\\\\n\"\\n'"
      ]
     },
     "metadata": {},
     "execution_count": 11
    }
   ],
   "metadata": {}
  },
  {
   "cell_type": "code",
   "execution_count": 12,
   "source": [
    "with open('tweet.json', 'w') as f:\r\n",
    "    json.dump(\r\n",
    "        json.loads(tweets[0]), f\r\n",
    "    )"
   ],
   "outputs": [],
   "metadata": {}
  },
  {
   "cell_type": "code",
   "execution_count": 13,
   "source": [
    "json.loads(tweets[0])"
   ],
   "outputs": [
    {
     "output_type": "execute_result",
     "data": {
      "text/plain": [
       "'{\"created_at\":\"Mon Sep 20 16:00:56 +0000 2021\",\"id\":1439982921209851906,\"id_str\":\"1439982921209851906\",\"text\":\"RT @bykowicz: \\\\u201cIn the first six months of 2021, Mr. Trump stockpiled $102 million in political cash. He reported no donations to Republican\\\\u2026\",\"source\":\"\\\\u003ca href=\\\\\"https:\\\\/\\\\/mobile.twitter.com\\\\\" rel=\\\\\"nofollow\\\\\"\\\\u003eTwitter Web App\\\\u003c\\\\/a\\\\u003e\",\"truncated\":false,\"in_reply_to_status_id\":null,\"in_reply_to_status_id_str\":null,\"in_reply_to_user_id\":null,\"in_reply_to_user_id_str\":null,\"in_reply_to_screen_name\":null,\"user\":{\"id\":18812010,\"id_str\":\"18812010\",\"name\":\"Roseann\\\\ud83e\\\\udd18 \\\\ud83c\\\\uddfa\\\\ud83c\\\\uddf8\",\"screen_name\":\"number9r\",\"location\":\"Chicagoland\",\"url\":null,\"description\":\"\\\\u201c...fuck you for being there\\\\u201d#NeverForgetJ6\\\\n\\\\ud83d\\\\udc95 LedZep\\\\ud83d\\\\udc95\\\\n\\\\ud83d\\\\udd95\\\\u0422\\\\u0440\\\\u0430\\\\u043c\\\\u043f \\\\ud83d\\\\udc89Microchipped & Magnetized \\\\ud83e\\\\uddf2\",\"translator_type\":\"regular\",\"protected\":false,\"verified\":false,\"followers_count\":1121,\"friends_count\":779,\"listed_count\":19,\"favourites_count\":1614,\"statuses_count\":208236,\"created_at\":\"Fri Jan 09 19:32:18 +0000 2009\",\"utc_offset\":null,\"time_zone\":null,\"geo_enabled\":false,\"lang\":null,\"contributors_enabled\":false,\"is_translator\":false,\"profile_background_color\":\"EBEBEB\",\"profile_background_image_url\":\"http:\\\\/\\\\/abs.twimg.com\\\\/images\\\\/themes\\\\/theme7\\\\/bg.gif\",\"profile_background_image_url_https\":\"https:\\\\/\\\\/abs.twimg.com\\\\/images\\\\/themes\\\\/theme7\\\\/bg.gif\",\"profile_background_tile\":true,\"profile_link_color\":\"E81C4F\",\"profile_sidebar_border_color\":\"000000\",\"profile_sidebar_fill_color\":\"000000\",\"profile_text_color\":\"000000\",\"profile_use_background_image\":true,\"profile_image_url\":\"http:\\\\/\\\\/pbs.twimg.com\\\\/profile_images\\\\/1439307637066276869\\\\/KUogrgw4_normal.jpg\",\"profile_image_url_https\":\"https:\\\\/\\\\/pbs.twimg.com\\\\/profile_images\\\\/1439307637066276869\\\\/KUogrgw4_normal.jpg\",\"profile_banner_url\":\"https:\\\\/\\\\/pbs.twimg.com\\\\/profile_banners\\\\/18812010\\\\/1631992953\",\"default_profile\":false,\"default_profile_image\":false,\"following\":null,\"follow_request_sent\":null,\"notifications\":null,\"withheld_in_countries\":[]},\"geo\":null,\"coordinates\":null,\"place\":null,\"contributors\":null,\"retweeted_status\":{\"created_at\":\"Mon Sep 20 15:31:18 +0000 2021\",\"id\":1439975461887660037,\"id_str\":\"1439975461887660037\",\"text\":\"\\\\u201cIn the first six months of 2021, Mr. Trump stockpiled $102 million in political cash. He reported no donations to\\\\u2026 https:\\\\/\\\\/t.co\\\\/v3Zt7tMeGP\",\"source\":\"\\\\u003ca href=\\\\\"http:\\\\/\\\\/twitter.com\\\\/download\\\\/iphone\\\\\" rel=\\\\\"nofollow\\\\\"\\\\u003eTwitter for iPhone\\\\u003c\\\\/a\\\\u003e\",\"truncated\":true,\"in_reply_to_status_id\":null,\"in_reply_to_status_id_str\":null,\"in_reply_to_user_id\":null,\"in_reply_to_user_id_str\":null,\"in_reply_to_screen_name\":null,\"user\":{\"id\":37721714,\"id_str\":\"37721714\",\"name\":\"Julie Bykowicz\",\"screen_name\":\"bykowicz\",\"location\":\"Baltimore, MD\",\"url\":\"https:\\\\/\\\\/www.wsj.com\\\\/news\\\\/author\\\\/8658\",\"description\":\"Wall Street Journal (@WSJ), money and politics. Priors: AP, Bloomberg, The Baltimore Sun\",\"translator_type\":\"none\",\"protected\":false,\"verified\":true,\"followers_count\":20996,\"friends_count\":946,\"listed_count\":917,\"favourites_count\":11186,\"statuses_count\":25837,\"created_at\":\"Mon May 04 18:33:35 +0000 2009\",\"utc_offset\":null,\"time_zone\":null,\"geo_enabled\":true,\"lang\":null,\"contributors_enabled\":false,\"is_translator\":false,\"profile_background_color\":\"C0DEED\",\"profile_background_image_url\":\"http:\\\\/\\\\/abs.twimg.com\\\\/images\\\\/themes\\\\/theme1\\\\/bg.png\",\"profile_background_image_url_https\":\"https:\\\\/\\\\/abs.twimg.com\\\\/images\\\\/themes\\\\/theme1\\\\/bg.png\",\"profile_background_tile\":false,\"profile_link_color\":\"1DA1F2\",\"profile_sidebar_border_color\":\"C0DEED\",\"profile_sidebar_fill_color\":\"DDEEF6\",\"profile_text_color\":\"333333\",\"profile_use_background_image\":true,\"profile_image_url\":\"http:\\\\/\\\\/pbs.twimg.com\\\\/profile_images\\\\/1392555875252977669\\\\/RnlCNmwW_normal.jpg\",\"profile_image_url_https\":\"https:\\\\/\\\\/pbs.twimg.com\\\\/profile_images\\\\/1392555875252977669\\\\/RnlCNmwW_normal.jpg\",\"profile_banner_url\":\"https:\\\\/\\\\/pbs.twimg.com\\\\/profile_banners\\\\/37721714\\\\/1620846169\",\"default_profile\":true,\"default_profile_image\":false,\"following\":null,\"follow_request_sent\":null,\"notifications\":null,\"withheld_in_countries\":[]},\"geo\":null,\"coordinates\":null,\"place\":null,\"contributors\":null,\"is_quote_status\":false,\"extended_tweet\":{\"full_text\":\"\\\\u201cIn the first six months of 2021, Mr. Trump stockpiled $102 million in political cash. He reported no donations to Republican campaigns during that time.\\\\u201d\\\\nvia \\\\u2066@lindsaywise\\\\u2069 \\\\u2066@MichaelCBender\\\\u2069  https:\\\\/\\\\/t.co\\\\/BG0AGtwsXD\",\"display_text_range\":[0,216],\"entities\":{\"hashtags\":[],\"urls\":[{\"url\":\"https:\\\\/\\\\/t.co\\\\/BG0AGtwsXD\",\"expanded_url\":\"https:\\\\/\\\\/www.wsj.com\\\\/articles\\\\/trump-looks-for-challenger-to-depose-mitch-mcconnell-as-split-widens-11632060002\",\"display_url\":\"wsj.com\\\\/articles\\\\/trump\\\\u2026\",\"indices\":[193,216]}],\"user_mentions\":[{\"screen_name\":\"lindsaywise\",\"name\":\"Lindsay Wise\",\"id\":37865281,\"id_str\":\"37865281\",\"indices\":[160,172]},{\"screen_name\":\"MichaelCBender\",\"name\":\"Michael C. Bender\",\"id\":54622050,\"id_str\":\"54622050\",\"indices\":[175,190]}],\"symbols\":[]}},\"quote_count\":0,\"reply_count\":1,\"retweet_count\":8,\"favorite_count\":7,\"entities\":{\"hashtags\":[],\"urls\":[{\"url\":\"https:\\\\/\\\\/t.co\\\\/v3Zt7tMeGP\",\"expanded_url\":\"https:\\\\/\\\\/twitter.com\\\\/i\\\\/web\\\\/status\\\\/1439975461887660037\",\"display_url\":\"twitter.com\\\\/i\\\\/web\\\\/status\\\\/1\\\\u2026\",\"indices\":[116,139]}],\"user_mentions\":[],\"symbols\":[]},\"favorited\":false,\"retweeted\":false,\"possibly_sensitive\":false,\"filter_level\":\"low\",\"lang\":\"en\"},\"is_quote_status\":false,\"quote_count\":0,\"reply_count\":0,\"retweet_count\":0,\"favorite_count\":0,\"entities\":{\"hashtags\":[],\"urls\":[],\"user_mentions\":[{\"screen_name\":\"bykowicz\",\"name\":\"Julie Bykowicz\",\"id\":37721714,\"id_str\":\"37721714\",\"indices\":[3,12]}],\"symbols\":[]},\"favorited\":false,\"retweeted\":false,\"filter_level\":\"low\",\"lang\":\"en\",\"timestamp_ms\":\"1632153656662\"}\\r\\n'"
      ]
     },
     "metadata": {},
     "execution_count": 13
    }
   ],
   "metadata": {}
  },
  {
   "cell_type": "code",
   "execution_count": 14,
   "source": [
    "type (\r\n",
    "    json.loads(tweets[0])\r\n",
    ")"
   ],
   "outputs": [
    {
     "output_type": "execute_result",
     "data": {
      "text/plain": [
       "str"
      ]
     },
     "metadata": {},
     "execution_count": 14
    }
   ],
   "metadata": {}
  },
  {
   "cell_type": "code",
   "execution_count": 15,
   "source": [
    "type (\r\n",
    "    json.loads (\r\n",
    "    json.loads(tweets[0])\r\n",
    "    )\r\n",
    "    \r\n",
    ")"
   ],
   "outputs": [
    {
     "output_type": "execute_result",
     "data": {
      "text/plain": [
       "dict"
      ]
     },
     "metadata": {},
     "execution_count": 15
    }
   ],
   "metadata": {}
  },
  {
   "cell_type": "code",
   "execution_count": 16,
   "source": [
    "json.loads (\r\n",
    "    json.loads(tweets[0])\r\n",
    "    )"
   ],
   "outputs": [
    {
     "output_type": "execute_result",
     "data": {
      "text/plain": [
       "{'created_at': 'Mon Sep 20 16:00:56 +0000 2021',\n",
       " 'id': 1439982921209851906,\n",
       " 'id_str': '1439982921209851906',\n",
       " 'text': 'RT @bykowicz: “In the first six months of 2021, Mr. Trump stockpiled $102 million in political cash. He reported no donations to Republican…',\n",
       " 'source': '<a href=\"https://mobile.twitter.com\" rel=\"nofollow\">Twitter Web App</a>',\n",
       " 'truncated': False,\n",
       " 'in_reply_to_status_id': None,\n",
       " 'in_reply_to_status_id_str': None,\n",
       " 'in_reply_to_user_id': None,\n",
       " 'in_reply_to_user_id_str': None,\n",
       " 'in_reply_to_screen_name': None,\n",
       " 'user': {'id': 18812010,\n",
       "  'id_str': '18812010',\n",
       "  'name': 'Roseann🤘 🇺🇸',\n",
       "  'screen_name': 'number9r',\n",
       "  'location': 'Chicagoland',\n",
       "  'url': None,\n",
       "  'description': '“...fuck you for being there”#NeverForgetJ6\\n💕 LedZep💕\\n🖕Трамп 💉Microchipped & Magnetized 🧲',\n",
       "  'translator_type': 'regular',\n",
       "  'protected': False,\n",
       "  'verified': False,\n",
       "  'followers_count': 1121,\n",
       "  'friends_count': 779,\n",
       "  'listed_count': 19,\n",
       "  'favourites_count': 1614,\n",
       "  'statuses_count': 208236,\n",
       "  'created_at': 'Fri Jan 09 19:32:18 +0000 2009',\n",
       "  'utc_offset': None,\n",
       "  'time_zone': None,\n",
       "  'geo_enabled': False,\n",
       "  'lang': None,\n",
       "  'contributors_enabled': False,\n",
       "  'is_translator': False,\n",
       "  'profile_background_color': 'EBEBEB',\n",
       "  'profile_background_image_url': 'http://abs.twimg.com/images/themes/theme7/bg.gif',\n",
       "  'profile_background_image_url_https': 'https://abs.twimg.com/images/themes/theme7/bg.gif',\n",
       "  'profile_background_tile': True,\n",
       "  'profile_link_color': 'E81C4F',\n",
       "  'profile_sidebar_border_color': '000000',\n",
       "  'profile_sidebar_fill_color': '000000',\n",
       "  'profile_text_color': '000000',\n",
       "  'profile_use_background_image': True,\n",
       "  'profile_image_url': 'http://pbs.twimg.com/profile_images/1439307637066276869/KUogrgw4_normal.jpg',\n",
       "  'profile_image_url_https': 'https://pbs.twimg.com/profile_images/1439307637066276869/KUogrgw4_normal.jpg',\n",
       "  'profile_banner_url': 'https://pbs.twimg.com/profile_banners/18812010/1631992953',\n",
       "  'default_profile': False,\n",
       "  'default_profile_image': False,\n",
       "  'following': None,\n",
       "  'follow_request_sent': None,\n",
       "  'notifications': None,\n",
       "  'withheld_in_countries': []},\n",
       " 'geo': None,\n",
       " 'coordinates': None,\n",
       " 'place': None,\n",
       " 'contributors': None,\n",
       " 'retweeted_status': {'created_at': 'Mon Sep 20 15:31:18 +0000 2021',\n",
       "  'id': 1439975461887660037,\n",
       "  'id_str': '1439975461887660037',\n",
       "  'text': '“In the first six months of 2021, Mr. Trump stockpiled $102 million in political cash. He reported no donations to… https://t.co/v3Zt7tMeGP',\n",
       "  'source': '<a href=\"http://twitter.com/download/iphone\" rel=\"nofollow\">Twitter for iPhone</a>',\n",
       "  'truncated': True,\n",
       "  'in_reply_to_status_id': None,\n",
       "  'in_reply_to_status_id_str': None,\n",
       "  'in_reply_to_user_id': None,\n",
       "  'in_reply_to_user_id_str': None,\n",
       "  'in_reply_to_screen_name': None,\n",
       "  'user': {'id': 37721714,\n",
       "   'id_str': '37721714',\n",
       "   'name': 'Julie Bykowicz',\n",
       "   'screen_name': 'bykowicz',\n",
       "   'location': 'Baltimore, MD',\n",
       "   'url': 'https://www.wsj.com/news/author/8658',\n",
       "   'description': 'Wall Street Journal (@WSJ), money and politics. Priors: AP, Bloomberg, The Baltimore Sun',\n",
       "   'translator_type': 'none',\n",
       "   'protected': False,\n",
       "   'verified': True,\n",
       "   'followers_count': 20996,\n",
       "   'friends_count': 946,\n",
       "   'listed_count': 917,\n",
       "   'favourites_count': 11186,\n",
       "   'statuses_count': 25837,\n",
       "   'created_at': 'Mon May 04 18:33:35 +0000 2009',\n",
       "   'utc_offset': None,\n",
       "   'time_zone': None,\n",
       "   'geo_enabled': True,\n",
       "   'lang': None,\n",
       "   'contributors_enabled': False,\n",
       "   'is_translator': False,\n",
       "   'profile_background_color': 'C0DEED',\n",
       "   'profile_background_image_url': 'http://abs.twimg.com/images/themes/theme1/bg.png',\n",
       "   'profile_background_image_url_https': 'https://abs.twimg.com/images/themes/theme1/bg.png',\n",
       "   'profile_background_tile': False,\n",
       "   'profile_link_color': '1DA1F2',\n",
       "   'profile_sidebar_border_color': 'C0DEED',\n",
       "   'profile_sidebar_fill_color': 'DDEEF6',\n",
       "   'profile_text_color': '333333',\n",
       "   'profile_use_background_image': True,\n",
       "   'profile_image_url': 'http://pbs.twimg.com/profile_images/1392555875252977669/RnlCNmwW_normal.jpg',\n",
       "   'profile_image_url_https': 'https://pbs.twimg.com/profile_images/1392555875252977669/RnlCNmwW_normal.jpg',\n",
       "   'profile_banner_url': 'https://pbs.twimg.com/profile_banners/37721714/1620846169',\n",
       "   'default_profile': True,\n",
       "   'default_profile_image': False,\n",
       "   'following': None,\n",
       "   'follow_request_sent': None,\n",
       "   'notifications': None,\n",
       "   'withheld_in_countries': []},\n",
       "  'geo': None,\n",
       "  'coordinates': None,\n",
       "  'place': None,\n",
       "  'contributors': None,\n",
       "  'is_quote_status': False,\n",
       "  'extended_tweet': {'full_text': '“In the first six months of 2021, Mr. Trump stockpiled $102 million in political cash. He reported no donations to Republican campaigns during that time.”\\nvia \\u2066@lindsaywise\\u2069 \\u2066@MichaelCBender\\u2069  https://t.co/BG0AGtwsXD',\n",
       "   'display_text_range': [0, 216],\n",
       "   'entities': {'hashtags': [],\n",
       "    'urls': [{'url': 'https://t.co/BG0AGtwsXD',\n",
       "      'expanded_url': 'https://www.wsj.com/articles/trump-looks-for-challenger-to-depose-mitch-mcconnell-as-split-widens-11632060002',\n",
       "      'display_url': 'wsj.com/articles/trump…',\n",
       "      'indices': [193, 216]}],\n",
       "    'user_mentions': [{'screen_name': 'lindsaywise',\n",
       "      'name': 'Lindsay Wise',\n",
       "      'id': 37865281,\n",
       "      'id_str': '37865281',\n",
       "      'indices': [160, 172]},\n",
       "     {'screen_name': 'MichaelCBender',\n",
       "      'name': 'Michael C. Bender',\n",
       "      'id': 54622050,\n",
       "      'id_str': '54622050',\n",
       "      'indices': [175, 190]}],\n",
       "    'symbols': []}},\n",
       "  'quote_count': 0,\n",
       "  'reply_count': 1,\n",
       "  'retweet_count': 8,\n",
       "  'favorite_count': 7,\n",
       "  'entities': {'hashtags': [],\n",
       "   'urls': [{'url': 'https://t.co/v3Zt7tMeGP',\n",
       "     'expanded_url': 'https://twitter.com/i/web/status/1439975461887660037',\n",
       "     'display_url': 'twitter.com/i/web/status/1…',\n",
       "     'indices': [116, 139]}],\n",
       "   'user_mentions': [],\n",
       "   'symbols': []},\n",
       "  'favorited': False,\n",
       "  'retweeted': False,\n",
       "  'possibly_sensitive': False,\n",
       "  'filter_level': 'low',\n",
       "  'lang': 'en'},\n",
       " 'is_quote_status': False,\n",
       " 'quote_count': 0,\n",
       " 'reply_count': 0,\n",
       " 'retweet_count': 0,\n",
       " 'favorite_count': 0,\n",
       " 'entities': {'hashtags': [],\n",
       "  'urls': [],\n",
       "  'user_mentions': [{'screen_name': 'bykowicz',\n",
       "    'name': 'Julie Bykowicz',\n",
       "    'id': 37721714,\n",
       "    'id_str': '37721714',\n",
       "    'indices': [3, 12]}],\n",
       "  'symbols': []},\n",
       " 'favorited': False,\n",
       " 'retweeted': False,\n",
       " 'filter_level': 'low',\n",
       " 'lang': 'en',\n",
       " 'timestamp_ms': '1632153656662'}"
      ]
     },
     "metadata": {},
     "execution_count": 16
    }
   ],
   "metadata": {}
  },
  {
   "cell_type": "code",
   "execution_count": 38,
   "source": [
    "#Fazendo um parse para um formato json e exporta arquivo\r\n",
    "\r\n",
    "\r\n",
    "\r\n",
    "with open('tweet.json', 'w') as f:\r\n",
    "    json.dump(\r\n",
    "        json.loads ( json.loads( tweets[0] ) ), f\r\n",
    "    )"
   ],
   "outputs": [],
   "metadata": {}
  },
  {
   "cell_type": "code",
   "execution_count": 40,
   "source": [
    "json.loads ( json.loads( tweets[0] ) )"
   ],
   "outputs": [
    {
     "output_type": "execute_result",
     "data": {
      "text/plain": [
       "{'created_at': 'Mon Sep 20 16:00:56 +0000 2021',\n",
       " 'id': 1439982921209851906,\n",
       " 'id_str': '1439982921209851906',\n",
       " 'text': 'RT @bykowicz: “In the first six months of 2021, Mr. Trump stockpiled $102 million in political cash. He reported no donations to Republican…',\n",
       " 'source': '<a href=\"https://mobile.twitter.com\" rel=\"nofollow\">Twitter Web App</a>',\n",
       " 'truncated': False,\n",
       " 'in_reply_to_status_id': None,\n",
       " 'in_reply_to_status_id_str': None,\n",
       " 'in_reply_to_user_id': None,\n",
       " 'in_reply_to_user_id_str': None,\n",
       " 'in_reply_to_screen_name': None,\n",
       " 'user': {'id': 18812010,\n",
       "  'id_str': '18812010',\n",
       "  'name': 'Roseann🤘 🇺🇸',\n",
       "  'screen_name': 'number9r',\n",
       "  'location': 'Chicagoland',\n",
       "  'url': None,\n",
       "  'description': '“...fuck you for being there”#NeverForgetJ6\\n💕 LedZep💕\\n🖕Трамп 💉Microchipped & Magnetized 🧲',\n",
       "  'translator_type': 'regular',\n",
       "  'protected': False,\n",
       "  'verified': False,\n",
       "  'followers_count': 1121,\n",
       "  'friends_count': 779,\n",
       "  'listed_count': 19,\n",
       "  'favourites_count': 1614,\n",
       "  'statuses_count': 208236,\n",
       "  'created_at': 'Fri Jan 09 19:32:18 +0000 2009',\n",
       "  'utc_offset': None,\n",
       "  'time_zone': None,\n",
       "  'geo_enabled': False,\n",
       "  'lang': None,\n",
       "  'contributors_enabled': False,\n",
       "  'is_translator': False,\n",
       "  'profile_background_color': 'EBEBEB',\n",
       "  'profile_background_image_url': 'http://abs.twimg.com/images/themes/theme7/bg.gif',\n",
       "  'profile_background_image_url_https': 'https://abs.twimg.com/images/themes/theme7/bg.gif',\n",
       "  'profile_background_tile': True,\n",
       "  'profile_link_color': 'E81C4F',\n",
       "  'profile_sidebar_border_color': '000000',\n",
       "  'profile_sidebar_fill_color': '000000',\n",
       "  'profile_text_color': '000000',\n",
       "  'profile_use_background_image': True,\n",
       "  'profile_image_url': 'http://pbs.twimg.com/profile_images/1439307637066276869/KUogrgw4_normal.jpg',\n",
       "  'profile_image_url_https': 'https://pbs.twimg.com/profile_images/1439307637066276869/KUogrgw4_normal.jpg',\n",
       "  'profile_banner_url': 'https://pbs.twimg.com/profile_banners/18812010/1631992953',\n",
       "  'default_profile': False,\n",
       "  'default_profile_image': False,\n",
       "  'following': None,\n",
       "  'follow_request_sent': None,\n",
       "  'notifications': None,\n",
       "  'withheld_in_countries': []},\n",
       " 'geo': None,\n",
       " 'coordinates': None,\n",
       " 'place': None,\n",
       " 'contributors': None,\n",
       " 'retweeted_status': {'created_at': 'Mon Sep 20 15:31:18 +0000 2021',\n",
       "  'id': 1439975461887660037,\n",
       "  'id_str': '1439975461887660037',\n",
       "  'text': '“In the first six months of 2021, Mr. Trump stockpiled $102 million in political cash. He reported no donations to… https://t.co/v3Zt7tMeGP',\n",
       "  'source': '<a href=\"http://twitter.com/download/iphone\" rel=\"nofollow\">Twitter for iPhone</a>',\n",
       "  'truncated': True,\n",
       "  'in_reply_to_status_id': None,\n",
       "  'in_reply_to_status_id_str': None,\n",
       "  'in_reply_to_user_id': None,\n",
       "  'in_reply_to_user_id_str': None,\n",
       "  'in_reply_to_screen_name': None,\n",
       "  'user': {'id': 37721714,\n",
       "   'id_str': '37721714',\n",
       "   'name': 'Julie Bykowicz',\n",
       "   'screen_name': 'bykowicz',\n",
       "   'location': 'Baltimore, MD',\n",
       "   'url': 'https://www.wsj.com/news/author/8658',\n",
       "   'description': 'Wall Street Journal (@WSJ), money and politics. Priors: AP, Bloomberg, The Baltimore Sun',\n",
       "   'translator_type': 'none',\n",
       "   'protected': False,\n",
       "   'verified': True,\n",
       "   'followers_count': 20996,\n",
       "   'friends_count': 946,\n",
       "   'listed_count': 917,\n",
       "   'favourites_count': 11186,\n",
       "   'statuses_count': 25837,\n",
       "   'created_at': 'Mon May 04 18:33:35 +0000 2009',\n",
       "   'utc_offset': None,\n",
       "   'time_zone': None,\n",
       "   'geo_enabled': True,\n",
       "   'lang': None,\n",
       "   'contributors_enabled': False,\n",
       "   'is_translator': False,\n",
       "   'profile_background_color': 'C0DEED',\n",
       "   'profile_background_image_url': 'http://abs.twimg.com/images/themes/theme1/bg.png',\n",
       "   'profile_background_image_url_https': 'https://abs.twimg.com/images/themes/theme1/bg.png',\n",
       "   'profile_background_tile': False,\n",
       "   'profile_link_color': '1DA1F2',\n",
       "   'profile_sidebar_border_color': 'C0DEED',\n",
       "   'profile_sidebar_fill_color': 'DDEEF6',\n",
       "   'profile_text_color': '333333',\n",
       "   'profile_use_background_image': True,\n",
       "   'profile_image_url': 'http://pbs.twimg.com/profile_images/1392555875252977669/RnlCNmwW_normal.jpg',\n",
       "   'profile_image_url_https': 'https://pbs.twimg.com/profile_images/1392555875252977669/RnlCNmwW_normal.jpg',\n",
       "   'profile_banner_url': 'https://pbs.twimg.com/profile_banners/37721714/1620846169',\n",
       "   'default_profile': True,\n",
       "   'default_profile_image': False,\n",
       "   'following': None,\n",
       "   'follow_request_sent': None,\n",
       "   'notifications': None,\n",
       "   'withheld_in_countries': []},\n",
       "  'geo': None,\n",
       "  'coordinates': None,\n",
       "  'place': None,\n",
       "  'contributors': None,\n",
       "  'is_quote_status': False,\n",
       "  'extended_tweet': {'full_text': '“In the first six months of 2021, Mr. Trump stockpiled $102 million in political cash. He reported no donations to Republican campaigns during that time.”\\nvia \\u2066@lindsaywise\\u2069 \\u2066@MichaelCBender\\u2069  https://t.co/BG0AGtwsXD',\n",
       "   'display_text_range': [0, 216],\n",
       "   'entities': {'hashtags': [],\n",
       "    'urls': [{'url': 'https://t.co/BG0AGtwsXD',\n",
       "      'expanded_url': 'https://www.wsj.com/articles/trump-looks-for-challenger-to-depose-mitch-mcconnell-as-split-widens-11632060002',\n",
       "      'display_url': 'wsj.com/articles/trump…',\n",
       "      'indices': [193, 216]}],\n",
       "    'user_mentions': [{'screen_name': 'lindsaywise',\n",
       "      'name': 'Lindsay Wise',\n",
       "      'id': 37865281,\n",
       "      'id_str': '37865281',\n",
       "      'indices': [160, 172]},\n",
       "     {'screen_name': 'MichaelCBender',\n",
       "      'name': 'Michael C. Bender',\n",
       "      'id': 54622050,\n",
       "      'id_str': '54622050',\n",
       "      'indices': [175, 190]}],\n",
       "    'symbols': []}},\n",
       "  'quote_count': 0,\n",
       "  'reply_count': 1,\n",
       "  'retweet_count': 8,\n",
       "  'favorite_count': 7,\n",
       "  'entities': {'hashtags': [],\n",
       "   'urls': [{'url': 'https://t.co/v3Zt7tMeGP',\n",
       "     'expanded_url': 'https://twitter.com/i/web/status/1439975461887660037',\n",
       "     'display_url': 'twitter.com/i/web/status/1…',\n",
       "     'indices': [116, 139]}],\n",
       "   'user_mentions': [],\n",
       "   'symbols': []},\n",
       "  'favorited': False,\n",
       "  'retweeted': False,\n",
       "  'possibly_sensitive': False,\n",
       "  'filter_level': 'low',\n",
       "  'lang': 'en'},\n",
       " 'is_quote_status': False,\n",
       " 'quote_count': 0,\n",
       " 'reply_count': 0,\n",
       " 'retweet_count': 0,\n",
       " 'favorite_count': 0,\n",
       " 'entities': {'hashtags': [],\n",
       "  'urls': [],\n",
       "  'user_mentions': [{'screen_name': 'bykowicz',\n",
       "    'name': 'Julie Bykowicz',\n",
       "    'id': 37721714,\n",
       "    'id_str': '37721714',\n",
       "    'indices': [3, 12]}],\n",
       "  'symbols': []},\n",
       " 'favorited': False,\n",
       " 'retweeted': False,\n",
       " 'filter_level': 'low',\n",
       " 'lang': 'en',\n",
       " 'timestamp_ms': '1632153656662'}"
      ]
     },
     "metadata": {},
     "execution_count": 40
    }
   ],
   "metadata": {}
  },
  {
   "cell_type": "code",
   "execution_count": null,
   "source": [
    "# Agora fazer parse para todos\r\n",
    "\r\n",
    "parsed_tweets = [ json.loads( json.loads(i)) for i in tweets ]"
   ],
   "outputs": [],
   "metadata": {}
  },
  {
   "cell_type": "code",
   "execution_count": null,
   "source": [
    "# Testar se funcionou\r\n",
    "parsed_tweets[0]"
   ],
   "outputs": [],
   "metadata": {}
  },
  {
   "cell_type": "code",
   "execution_count": null,
   "source": [
    "# Testar se funcionou\r\n",
    "parsed_tweets[2]"
   ],
   "outputs": [],
   "metadata": {}
  }
 ],
 "metadata": {
  "orig_nbformat": 4,
  "language_info": {
   "name": "python",
   "version": "3.8.8",
   "mimetype": "text/x-python",
   "codemirror_mode": {
    "name": "ipython",
    "version": 3
   },
   "pygments_lexer": "ipython3",
   "nbconvert_exporter": "python",
   "file_extension": ".py"
  },
  "kernelspec": {
   "name": "python3",
   "display_name": "Python 3.8.8 64-bit ('base': conda)"
  },
  "interpreter": {
   "hash": "ee00a69fe1ad94bffd6af735746b41b6033db668e5bcf4a7ef0533a871a2edb6"
  }
 },
 "nbformat": 4,
 "nbformat_minor": 2
}