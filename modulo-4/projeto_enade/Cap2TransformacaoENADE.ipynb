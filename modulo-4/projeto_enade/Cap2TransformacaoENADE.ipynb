{
 "cells": [
  {
   "cell_type": "markdown",
   "source": [
    "# Transformação de Dados - ENADE - INEP _ Ministério da Educação\r\n"
   ],
   "metadata": {}
  },
  {
   "cell_type": "markdown",
   "source": [
    "## Aula 2.2.1\r\n",
    "\r\n",
    "Transformação dos Microdados do Enade 2019 | zip (Atualizado em 13/05/2021)"
   ],
   "metadata": {}
  },
  {
   "cell_type": "code",
   "execution_count": 2,
   "source": [
    "# Importar bibliotecas\r\n",
    "\r\n",
    "import pandas as pd \r\n",
    "import numpy as np \r\n",
    "import os\r\n"
   ],
   "outputs": [],
   "metadata": {}
  },
  {
   "cell_type": "code",
   "execution_count": 3,
   "source": [
    "enade = pd.read_csv(\"./enade2019/3.DADOS/microdados_enade_2019_2.txt\", \r\n",
    "                    sep = \";\", \r\n",
    "                    decimal = \".\" )"
   ],
   "outputs": [],
   "metadata": {}
  },
  {
   "cell_type": "code",
   "execution_count": 4,
   "source": [
    "enade.head()"
   ],
   "outputs": [
    {
     "output_type": "execute_result",
     "data": {
      "text/html": [
       "<div>\n",
       "<style scoped>\n",
       "    .dataframe tbody tr th:only-of-type {\n",
       "        vertical-align: middle;\n",
       "    }\n",
       "\n",
       "    .dataframe tbody tr th {\n",
       "        vertical-align: top;\n",
       "    }\n",
       "\n",
       "    .dataframe thead th {\n",
       "        text-align: right;\n",
       "    }\n",
       "</style>\n",
       "<table border=\"1\" class=\"dataframe\">\n",
       "  <thead>\n",
       "    <tr style=\"text-align: right;\">\n",
       "      <th></th>\n",
       "      <th>NU_ANO</th>\n",
       "      <th>CO_IES</th>\n",
       "      <th>CO_CATEGAD</th>\n",
       "      <th>CO_ORGACAD</th>\n",
       "      <th>CO_GRUPO</th>\n",
       "      <th>CO_CURSO</th>\n",
       "      <th>CO_MODALIDADE</th>\n",
       "      <th>CO_MUNIC_CURSO</th>\n",
       "      <th>CO_UF_CURSO</th>\n",
       "      <th>CO_REGIAO_CURSO</th>\n",
       "      <th>...</th>\n",
       "      <th>QE_I59</th>\n",
       "      <th>QE_I60</th>\n",
       "      <th>QE_I61</th>\n",
       "      <th>QE_I62</th>\n",
       "      <th>QE_I63</th>\n",
       "      <th>QE_I64</th>\n",
       "      <th>QE_I65</th>\n",
       "      <th>QE_I66</th>\n",
       "      <th>QE_I67</th>\n",
       "      <th>QE_I68</th>\n",
       "    </tr>\n",
       "  </thead>\n",
       "  <tbody>\n",
       "    <tr>\n",
       "      <th>0</th>\n",
       "      <td>2019</td>\n",
       "      <td>1</td>\n",
       "      <td>10002</td>\n",
       "      <td>10028</td>\n",
       "      <td>5710</td>\n",
       "      <td>3</td>\n",
       "      <td>1</td>\n",
       "      <td>5103403</td>\n",
       "      <td>51</td>\n",
       "      <td>5</td>\n",
       "      <td>...</td>\n",
       "      <td>2.0</td>\n",
       "      <td>5.0</td>\n",
       "      <td>1.0</td>\n",
       "      <td>1.0</td>\n",
       "      <td>2.0</td>\n",
       "      <td>5.0</td>\n",
       "      <td>8.0</td>\n",
       "      <td>7.0</td>\n",
       "      <td>1.0</td>\n",
       "      <td>2.0</td>\n",
       "    </tr>\n",
       "    <tr>\n",
       "      <th>1</th>\n",
       "      <td>2019</td>\n",
       "      <td>1</td>\n",
       "      <td>10002</td>\n",
       "      <td>10028</td>\n",
       "      <td>5710</td>\n",
       "      <td>3</td>\n",
       "      <td>1</td>\n",
       "      <td>5103403</td>\n",
       "      <td>51</td>\n",
       "      <td>5</td>\n",
       "      <td>...</td>\n",
       "      <td>1.0</td>\n",
       "      <td>4.0</td>\n",
       "      <td>2.0</td>\n",
       "      <td>2.0</td>\n",
       "      <td>2.0</td>\n",
       "      <td>5.0</td>\n",
       "      <td>4.0</td>\n",
       "      <td>4.0</td>\n",
       "      <td>2.0</td>\n",
       "      <td>2.0</td>\n",
       "    </tr>\n",
       "    <tr>\n",
       "      <th>2</th>\n",
       "      <td>2019</td>\n",
       "      <td>1</td>\n",
       "      <td>10002</td>\n",
       "      <td>10028</td>\n",
       "      <td>5710</td>\n",
       "      <td>3</td>\n",
       "      <td>1</td>\n",
       "      <td>5103403</td>\n",
       "      <td>51</td>\n",
       "      <td>5</td>\n",
       "      <td>...</td>\n",
       "      <td>3.0</td>\n",
       "      <td>4.0</td>\n",
       "      <td>4.0</td>\n",
       "      <td>3.0</td>\n",
       "      <td>3.0</td>\n",
       "      <td>4.0</td>\n",
       "      <td>1.0</td>\n",
       "      <td>1.0</td>\n",
       "      <td>1.0</td>\n",
       "      <td>4.0</td>\n",
       "    </tr>\n",
       "    <tr>\n",
       "      <th>3</th>\n",
       "      <td>2019</td>\n",
       "      <td>1</td>\n",
       "      <td>10002</td>\n",
       "      <td>10028</td>\n",
       "      <td>5710</td>\n",
       "      <td>3</td>\n",
       "      <td>1</td>\n",
       "      <td>5103403</td>\n",
       "      <td>51</td>\n",
       "      <td>5</td>\n",
       "      <td>...</td>\n",
       "      <td>3.0</td>\n",
       "      <td>5.0</td>\n",
       "      <td>2.0</td>\n",
       "      <td>2.0</td>\n",
       "      <td>2.0</td>\n",
       "      <td>3.0</td>\n",
       "      <td>3.0</td>\n",
       "      <td>4.0</td>\n",
       "      <td>3.0</td>\n",
       "      <td>3.0</td>\n",
       "    </tr>\n",
       "    <tr>\n",
       "      <th>4</th>\n",
       "      <td>2019</td>\n",
       "      <td>1</td>\n",
       "      <td>10002</td>\n",
       "      <td>10028</td>\n",
       "      <td>5710</td>\n",
       "      <td>3</td>\n",
       "      <td>1</td>\n",
       "      <td>5103403</td>\n",
       "      <td>51</td>\n",
       "      <td>5</td>\n",
       "      <td>...</td>\n",
       "      <td>NaN</td>\n",
       "      <td>NaN</td>\n",
       "      <td>NaN</td>\n",
       "      <td>NaN</td>\n",
       "      <td>NaN</td>\n",
       "      <td>NaN</td>\n",
       "      <td>NaN</td>\n",
       "      <td>NaN</td>\n",
       "      <td>NaN</td>\n",
       "      <td>NaN</td>\n",
       "    </tr>\n",
       "  </tbody>\n",
       "</table>\n",
       "<p>5 rows × 137 columns</p>\n",
       "</div>"
      ],
      "text/plain": [
       "   NU_ANO  CO_IES  CO_CATEGAD  CO_ORGACAD  CO_GRUPO  CO_CURSO  CO_MODALIDADE  \\\n",
       "0    2019       1       10002       10028      5710         3              1   \n",
       "1    2019       1       10002       10028      5710         3              1   \n",
       "2    2019       1       10002       10028      5710         3              1   \n",
       "3    2019       1       10002       10028      5710         3              1   \n",
       "4    2019       1       10002       10028      5710         3              1   \n",
       "\n",
       "   CO_MUNIC_CURSO  CO_UF_CURSO  CO_REGIAO_CURSO  ...  QE_I59 QE_I60  QE_I61  \\\n",
       "0         5103403           51                5  ...     2.0    5.0     1.0   \n",
       "1         5103403           51                5  ...     1.0    4.0     2.0   \n",
       "2         5103403           51                5  ...     3.0    4.0     4.0   \n",
       "3         5103403           51                5  ...     3.0    5.0     2.0   \n",
       "4         5103403           51                5  ...     NaN    NaN     NaN   \n",
       "\n",
       "   QE_I62  QE_I63  QE_I64  QE_I65  QE_I66  QE_I67  QE_I68  \n",
       "0     1.0     2.0     5.0     8.0     7.0     1.0     2.0  \n",
       "1     2.0     2.0     5.0     4.0     4.0     2.0     2.0  \n",
       "2     3.0     3.0     4.0     1.0     1.0     1.0     4.0  \n",
       "3     2.0     2.0     3.0     3.0     4.0     3.0     3.0  \n",
       "4     NaN     NaN     NaN     NaN     NaN     NaN     NaN  \n",
       "\n",
       "[5 rows x 137 columns]"
      ]
     },
     "metadata": {},
     "execution_count": 4
    }
   ],
   "metadata": {}
  },
  {
   "cell_type": "code",
   "execution_count": 5,
   "source": [
    "#enade.dtypes\r\n",
    "enade.select_dtypes(include='object')"
   ],
   "outputs": [
    {
     "output_type": "execute_result",
     "data": {
      "text/html": [
       "<div>\n",
       "<style scoped>\n",
       "    .dataframe tbody tr th:only-of-type {\n",
       "        vertical-align: middle;\n",
       "    }\n",
       "\n",
       "    .dataframe tbody tr th {\n",
       "        vertical-align: top;\n",
       "    }\n",
       "\n",
       "    .dataframe thead th {\n",
       "        text-align: right;\n",
       "    }\n",
       "</style>\n",
       "<table border=\"1\" class=\"dataframe\">\n",
       "  <thead>\n",
       "    <tr style=\"text-align: right;\">\n",
       "      <th></th>\n",
       "      <th>TP_SEXO</th>\n",
       "      <th>DS_VT_GAB_OFG_ORIG</th>\n",
       "      <th>DS_VT_GAB_OFG_FIN</th>\n",
       "      <th>DS_VT_GAB_OCE_ORIG</th>\n",
       "      <th>DS_VT_GAB_OCE_FIN</th>\n",
       "      <th>DS_VT_ESC_OFG</th>\n",
       "      <th>DS_VT_ESC_OCE</th>\n",
       "      <th>DS_VT_ACE_OCE</th>\n",
       "      <th>CO_RS_I1</th>\n",
       "      <th>CO_RS_I2</th>\n",
       "      <th>...</th>\n",
       "      <th>QE_I17</th>\n",
       "      <th>QE_I18</th>\n",
       "      <th>QE_I19</th>\n",
       "      <th>QE_I20</th>\n",
       "      <th>QE_I21</th>\n",
       "      <th>QE_I22</th>\n",
       "      <th>QE_I23</th>\n",
       "      <th>QE_I24</th>\n",
       "      <th>QE_I25</th>\n",
       "      <th>QE_I26</th>\n",
       "    </tr>\n",
       "  </thead>\n",
       "  <tbody>\n",
       "    <tr>\n",
       "      <th>0</th>\n",
       "      <td>M</td>\n",
       "      <td>ZDCBCCDB</td>\n",
       "      <td>ZDCBCCDB</td>\n",
       "      <td>ABECDDEABDECCBCDEBAEDCDBAAA</td>\n",
       "      <td>ABEXDDEABDECXXXDXBAEDCXXAAA</td>\n",
       "      <td>DACBCBDD</td>\n",
       "      <td>ABEEDDDAADEAEECBBABECCACBAA</td>\n",
       "      <td>111911010110999090010199011</td>\n",
       "      <td>E</td>\n",
       "      <td>D</td>\n",
       "      <td>...</td>\n",
       "      <td>B</td>\n",
       "      <td>A</td>\n",
       "      <td>B</td>\n",
       "      <td>G</td>\n",
       "      <td>A</td>\n",
       "      <td>B</td>\n",
       "      <td>D</td>\n",
       "      <td>A</td>\n",
       "      <td>E</td>\n",
       "      <td>C</td>\n",
       "    </tr>\n",
       "    <tr>\n",
       "      <th>1</th>\n",
       "      <td>M</td>\n",
       "      <td>ZDCBCCDB</td>\n",
       "      <td>ZDCBCCDB</td>\n",
       "      <td>ABECDDEABDECCBCDEBAEDCDBAAA</td>\n",
       "      <td>ABEXDDEABDECXXXDXBAEDCXXAAA</td>\n",
       "      <td>CDCBDCBC</td>\n",
       "      <td>ABCECDEBAABCCCDDDBAEDCBADDA</td>\n",
       "      <td>110901100001999191111199001</td>\n",
       "      <td>D</td>\n",
       "      <td>B</td>\n",
       "      <td>...</td>\n",
       "      <td>B</td>\n",
       "      <td>A</td>\n",
       "      <td>A</td>\n",
       "      <td>C</td>\n",
       "      <td>A</td>\n",
       "      <td>B</td>\n",
       "      <td>D</td>\n",
       "      <td>C</td>\n",
       "      <td>E</td>\n",
       "      <td>C</td>\n",
       "    </tr>\n",
       "    <tr>\n",
       "      <th>2</th>\n",
       "      <td>M</td>\n",
       "      <td>ZDCBCCDB</td>\n",
       "      <td>ZDCBCCDB</td>\n",
       "      <td>ABECDDEABDECCBCDEBAEDCDBAAA</td>\n",
       "      <td>ABEXDDEABDECXXXDXBAEDCXXAAA</td>\n",
       "      <td>NaN</td>\n",
       "      <td>NaN</td>\n",
       "      <td>NaN</td>\n",
       "      <td>NaN</td>\n",
       "      <td>NaN</td>\n",
       "      <td>...</td>\n",
       "      <td>A</td>\n",
       "      <td>A</td>\n",
       "      <td>B</td>\n",
       "      <td>C</td>\n",
       "      <td>A</td>\n",
       "      <td>D</td>\n",
       "      <td>B</td>\n",
       "      <td>C</td>\n",
       "      <td>B</td>\n",
       "      <td>A</td>\n",
       "    </tr>\n",
       "    <tr>\n",
       "      <th>3</th>\n",
       "      <td>M</td>\n",
       "      <td>ZDCBCCDB</td>\n",
       "      <td>ZDCBCCDB</td>\n",
       "      <td>ABECDDEABDECCBCDEBAEDCDBAAA</td>\n",
       "      <td>ABEXDDEABDECXXXDXBAEDCXXAAA</td>\n",
       "      <td>ADCCACEB</td>\n",
       "      <td>EEEEAEDABAEADAEDACABDCCCDDC</td>\n",
       "      <td>001900011010999190101199000</td>\n",
       "      <td>C</td>\n",
       "      <td>C</td>\n",
       "      <td>...</td>\n",
       "      <td>B</td>\n",
       "      <td>A</td>\n",
       "      <td>D</td>\n",
       "      <td>G</td>\n",
       "      <td>A</td>\n",
       "      <td>A</td>\n",
       "      <td>D</td>\n",
       "      <td>A</td>\n",
       "      <td>C</td>\n",
       "      <td>F</td>\n",
       "    </tr>\n",
       "    <tr>\n",
       "      <th>4</th>\n",
       "      <td>M</td>\n",
       "      <td>ZDCBCCDB</td>\n",
       "      <td>ZDCBCCDB</td>\n",
       "      <td>ABECDDEABDECCBCDEBAEDCDBAAA</td>\n",
       "      <td>ABEXDDEABDECXXXDXBAEDCXXAAA</td>\n",
       "      <td>NaN</td>\n",
       "      <td>NaN</td>\n",
       "      <td>NaN</td>\n",
       "      <td>NaN</td>\n",
       "      <td>NaN</td>\n",
       "      <td>...</td>\n",
       "      <td>NaN</td>\n",
       "      <td>NaN</td>\n",
       "      <td>NaN</td>\n",
       "      <td>NaN</td>\n",
       "      <td>NaN</td>\n",
       "      <td>NaN</td>\n",
       "      <td>NaN</td>\n",
       "      <td>NaN</td>\n",
       "      <td>NaN</td>\n",
       "      <td>NaN</td>\n",
       "    </tr>\n",
       "    <tr>\n",
       "      <th>...</th>\n",
       "      <td>...</td>\n",
       "      <td>...</td>\n",
       "      <td>...</td>\n",
       "      <td>...</td>\n",
       "      <td>...</td>\n",
       "      <td>...</td>\n",
       "      <td>...</td>\n",
       "      <td>...</td>\n",
       "      <td>...</td>\n",
       "      <td>...</td>\n",
       "      <td>...</td>\n",
       "      <td>...</td>\n",
       "      <td>...</td>\n",
       "      <td>...</td>\n",
       "      <td>...</td>\n",
       "      <td>...</td>\n",
       "      <td>...</td>\n",
       "      <td>...</td>\n",
       "      <td>...</td>\n",
       "      <td>...</td>\n",
       "      <td>...</td>\n",
       "    </tr>\n",
       "    <tr>\n",
       "      <th>433925</th>\n",
       "      <td>F</td>\n",
       "      <td>ZDCBCCDB</td>\n",
       "      <td>ZDCBCCDB</td>\n",
       "      <td>BADCABDCEDECACBCDAEDEZEZBAA</td>\n",
       "      <td>BXDCABDCEDECAXBXDAEDEZEZBAA</td>\n",
       "      <td>ADCBAABB</td>\n",
       "      <td>DADCABDCEDECADBCAAEDEAEBBAA</td>\n",
       "      <td>9.11111E+25</td>\n",
       "      <td>C</td>\n",
       "      <td>C</td>\n",
       "      <td>...</td>\n",
       "      <td>A</td>\n",
       "      <td>A</td>\n",
       "      <td>B</td>\n",
       "      <td>C</td>\n",
       "      <td>A</td>\n",
       "      <td>C</td>\n",
       "      <td>C</td>\n",
       "      <td>E</td>\n",
       "      <td>E</td>\n",
       "      <td>H</td>\n",
       "    </tr>\n",
       "    <tr>\n",
       "      <th>433926</th>\n",
       "      <td>M</td>\n",
       "      <td>ZDCBCCDB</td>\n",
       "      <td>ZDCBCCDB</td>\n",
       "      <td>BADCABDCEDECACBCDAEDEZEZBAA</td>\n",
       "      <td>BXDCABDCEDECAXBXDAEDEZEZBAA</td>\n",
       "      <td>BECCEBEE</td>\n",
       "      <td>BADCABDCEDECACBCCAADEBEBBED</td>\n",
       "      <td>1.91111E+26</td>\n",
       "      <td>C</td>\n",
       "      <td>C</td>\n",
       "      <td>...</td>\n",
       "      <td>B</td>\n",
       "      <td>A</td>\n",
       "      <td>B</td>\n",
       "      <td>A</td>\n",
       "      <td>A</td>\n",
       "      <td>A</td>\n",
       "      <td>B</td>\n",
       "      <td>E</td>\n",
       "      <td>H</td>\n",
       "      <td>F</td>\n",
       "    </tr>\n",
       "    <tr>\n",
       "      <th>433927</th>\n",
       "      <td>M</td>\n",
       "      <td>ZDCBCCDB</td>\n",
       "      <td>ZDCBCCDB</td>\n",
       "      <td>BADCABDCEDECACBCDAEDEZEZBAA</td>\n",
       "      <td>BXDCABDCEDECAXBXDAEDEZEZBAA</td>\n",
       "      <td>BDCBDCEC</td>\n",
       "      <td>BADEBDDCEDECAEBCEABDEBECBAB</td>\n",
       "      <td>1.91E+26</td>\n",
       "      <td>D</td>\n",
       "      <td>C</td>\n",
       "      <td>...</td>\n",
       "      <td>A</td>\n",
       "      <td>A</td>\n",
       "      <td>B</td>\n",
       "      <td>C</td>\n",
       "      <td>A</td>\n",
       "      <td>E</td>\n",
       "      <td>C</td>\n",
       "      <td>E</td>\n",
       "      <td>E</td>\n",
       "      <td>F</td>\n",
       "    </tr>\n",
       "    <tr>\n",
       "      <th>433928</th>\n",
       "      <td>M</td>\n",
       "      <td>ZDCBCCDB</td>\n",
       "      <td>ZDCBCCDB</td>\n",
       "      <td>BADCABDCEDECACBCDAEDEZEZBAA</td>\n",
       "      <td>BXDCABDCEDECAXBXDAEDEZEZBAA</td>\n",
       "      <td>ADDBDCEE</td>\n",
       "      <td>BADCABDCEDECAEBCCAEDEBDBACC</td>\n",
       "      <td>1.91111E+26</td>\n",
       "      <td>D</td>\n",
       "      <td>C</td>\n",
       "      <td>...</td>\n",
       "      <td>E</td>\n",
       "      <td>A</td>\n",
       "      <td>A</td>\n",
       "      <td>C</td>\n",
       "      <td>B</td>\n",
       "      <td>B</td>\n",
       "      <td>B</td>\n",
       "      <td>E</td>\n",
       "      <td>H</td>\n",
       "      <td>G</td>\n",
       "    </tr>\n",
       "    <tr>\n",
       "      <th>433929</th>\n",
       "      <td>F</td>\n",
       "      <td>ZDCBCCDB</td>\n",
       "      <td>ZDCBCCDB</td>\n",
       "      <td>BADCABDCEDECACBCDAEDEZEZBAA</td>\n",
       "      <td>BXDCABDCEDECAXBXDAEDEZEZBAA</td>\n",
       "      <td>ABCCACDC</td>\n",
       "      <td>BADCABDCEDECAEBCDACDEBEBBAA</td>\n",
       "      <td>1.91111E+26</td>\n",
       "      <td>C</td>\n",
       "      <td>C</td>\n",
       "      <td>...</td>\n",
       "      <td>A</td>\n",
       "      <td>A</td>\n",
       "      <td>A</td>\n",
       "      <td>G</td>\n",
       "      <td>A</td>\n",
       "      <td>C</td>\n",
       "      <td>B</td>\n",
       "      <td>E</td>\n",
       "      <td>A</td>\n",
       "      <td>F</td>\n",
       "    </tr>\n",
       "  </tbody>\n",
       "</table>\n",
       "<p>433930 rows × 42 columns</p>\n",
       "</div>"
      ],
      "text/plain": [
       "       TP_SEXO DS_VT_GAB_OFG_ORIG DS_VT_GAB_OFG_FIN  \\\n",
       "0            M           ZDCBCCDB          ZDCBCCDB   \n",
       "1            M           ZDCBCCDB          ZDCBCCDB   \n",
       "2            M           ZDCBCCDB          ZDCBCCDB   \n",
       "3            M           ZDCBCCDB          ZDCBCCDB   \n",
       "4            M           ZDCBCCDB          ZDCBCCDB   \n",
       "...        ...                ...               ...   \n",
       "433925       F           ZDCBCCDB          ZDCBCCDB   \n",
       "433926       M           ZDCBCCDB          ZDCBCCDB   \n",
       "433927       M           ZDCBCCDB          ZDCBCCDB   \n",
       "433928       M           ZDCBCCDB          ZDCBCCDB   \n",
       "433929       F           ZDCBCCDB          ZDCBCCDB   \n",
       "\n",
       "                 DS_VT_GAB_OCE_ORIG            DS_VT_GAB_OCE_FIN  \\\n",
       "0       ABECDDEABDECCBCDEBAEDCDBAAA  ABEXDDEABDECXXXDXBAEDCXXAAA   \n",
       "1       ABECDDEABDECCBCDEBAEDCDBAAA  ABEXDDEABDECXXXDXBAEDCXXAAA   \n",
       "2       ABECDDEABDECCBCDEBAEDCDBAAA  ABEXDDEABDECXXXDXBAEDCXXAAA   \n",
       "3       ABECDDEABDECCBCDEBAEDCDBAAA  ABEXDDEABDECXXXDXBAEDCXXAAA   \n",
       "4       ABECDDEABDECCBCDEBAEDCDBAAA  ABEXDDEABDECXXXDXBAEDCXXAAA   \n",
       "...                             ...                          ...   \n",
       "433925  BADCABDCEDECACBCDAEDEZEZBAA  BXDCABDCEDECAXBXDAEDEZEZBAA   \n",
       "433926  BADCABDCEDECACBCDAEDEZEZBAA  BXDCABDCEDECAXBXDAEDEZEZBAA   \n",
       "433927  BADCABDCEDECACBCDAEDEZEZBAA  BXDCABDCEDECAXBXDAEDEZEZBAA   \n",
       "433928  BADCABDCEDECACBCDAEDEZEZBAA  BXDCABDCEDECAXBXDAEDEZEZBAA   \n",
       "433929  BADCABDCEDECACBCDAEDEZEZBAA  BXDCABDCEDECAXBXDAEDEZEZBAA   \n",
       "\n",
       "       DS_VT_ESC_OFG                DS_VT_ESC_OCE  \\\n",
       "0           DACBCBDD  ABEEDDDAADEAEECBBABECCACBAA   \n",
       "1           CDCBDCBC  ABCECDEBAABCCCDDDBAEDCBADDA   \n",
       "2                NaN                          NaN   \n",
       "3           ADCCACEB  EEEEAEDABAEADAEDACABDCCCDDC   \n",
       "4                NaN                          NaN   \n",
       "...              ...                          ...   \n",
       "433925      ADCBAABB  DADCABDCEDECADBCAAEDEAEBBAA   \n",
       "433926      BECCEBEE  BADCABDCEDECACBCCAADEBEBBED   \n",
       "433927      BDCBDCEC  BADEBDDCEDECAEBCEABDEBECBAB   \n",
       "433928      ADDBDCEE  BADCABDCEDECAEBCCAEDEBDBACC   \n",
       "433929      ABCCACDC  BADCABDCEDECAEBCDACDEBEBBAA   \n",
       "\n",
       "                      DS_VT_ACE_OCE CO_RS_I1 CO_RS_I2  ... QE_I17 QE_I18  \\\n",
       "0       111911010110999090010199011        E        D  ...      B      A   \n",
       "1       110901100001999191111199001        D        B  ...      B      A   \n",
       "2                               NaN      NaN      NaN  ...      A      A   \n",
       "3       001900011010999190101199000        C        C  ...      B      A   \n",
       "4                               NaN      NaN      NaN  ...    NaN    NaN   \n",
       "...                             ...      ...      ...  ...    ...    ...   \n",
       "433925                  9.11111E+25        C        C  ...      A      A   \n",
       "433926                  1.91111E+26        C        C  ...      B      A   \n",
       "433927                     1.91E+26        D        C  ...      A      A   \n",
       "433928                  1.91111E+26        D        C  ...      E      A   \n",
       "433929                  1.91111E+26        C        C  ...      A      A   \n",
       "\n",
       "       QE_I19 QE_I20 QE_I21 QE_I22 QE_I23 QE_I24 QE_I25 QE_I26  \n",
       "0           B      G      A      B      D      A      E      C  \n",
       "1           A      C      A      B      D      C      E      C  \n",
       "2           B      C      A      D      B      C      B      A  \n",
       "3           D      G      A      A      D      A      C      F  \n",
       "4         NaN    NaN    NaN    NaN    NaN    NaN    NaN    NaN  \n",
       "...       ...    ...    ...    ...    ...    ...    ...    ...  \n",
       "433925      B      C      A      C      C      E      E      H  \n",
       "433926      B      A      A      A      B      E      H      F  \n",
       "433927      B      C      A      E      C      E      E      F  \n",
       "433928      A      C      B      B      B      E      H      G  \n",
       "433929      A      G      A      C      B      E      A      F  \n",
       "\n",
       "[433930 rows x 42 columns]"
      ]
     },
     "metadata": {},
     "execution_count": 5
    }
   ],
   "metadata": {}
  },
  {
   "cell_type": "code",
   "execution_count": 6,
   "source": [
    "# Verificando o schema da tabela\r\n",
    "\r\n",
    "dict(enade.dtypes)"
   ],
   "outputs": [
    {
     "output_type": "execute_result",
     "data": {
      "text/plain": [
       "{'NU_ANO': dtype('int64'),\n",
       " 'CO_IES': dtype('int64'),\n",
       " 'CO_CATEGAD': dtype('int64'),\n",
       " 'CO_ORGACAD': dtype('int64'),\n",
       " 'CO_GRUPO': dtype('int64'),\n",
       " 'CO_CURSO': dtype('int64'),\n",
       " 'CO_MODALIDADE': dtype('int64'),\n",
       " 'CO_MUNIC_CURSO': dtype('int64'),\n",
       " 'CO_UF_CURSO': dtype('int64'),\n",
       " 'CO_REGIAO_CURSO': dtype('int64'),\n",
       " 'NU_IDADE': dtype('int64'),\n",
       " 'TP_SEXO': dtype('O'),\n",
       " 'ANO_FIM_EM': dtype('int64'),\n",
       " 'ANO_IN_GRAD': dtype('float64'),\n",
       " 'CO_TURNO_GRADUACAO': dtype('float64'),\n",
       " 'TP_INSCRICAO_ADM': dtype('int64'),\n",
       " 'TP_INSCRICAO': dtype('int64'),\n",
       " 'NU_ITEM_OFG': dtype('int64'),\n",
       " 'NU_ITEM_OFG_Z': dtype('int64'),\n",
       " 'NU_ITEM_OFG_X': dtype('int64'),\n",
       " 'NU_ITEM_OFG_N': dtype('int64'),\n",
       " 'NU_ITEM_OCE': dtype('int64'),\n",
       " 'NU_ITEM_OCE_Z': dtype('int64'),\n",
       " 'NU_ITEM_OCE_X': dtype('int64'),\n",
       " 'NU_ITEM_OCE_N': dtype('int64'),\n",
       " 'DS_VT_GAB_OFG_ORIG': dtype('O'),\n",
       " 'DS_VT_GAB_OFG_FIN': dtype('O'),\n",
       " 'DS_VT_GAB_OCE_ORIG': dtype('O'),\n",
       " 'DS_VT_GAB_OCE_FIN': dtype('O'),\n",
       " 'DS_VT_ESC_OFG': dtype('O'),\n",
       " 'DS_VT_ACE_OFG': dtype('float64'),\n",
       " 'DS_VT_ESC_OCE': dtype('O'),\n",
       " 'DS_VT_ACE_OCE': dtype('O'),\n",
       " 'TP_PRES': dtype('int64'),\n",
       " 'TP_PR_GER': dtype('int64'),\n",
       " 'TP_PR_OB_FG': dtype('int64'),\n",
       " 'TP_PR_DI_FG': dtype('int64'),\n",
       " 'TP_PR_OB_CE': dtype('int64'),\n",
       " 'TP_PR_DI_CE': dtype('int64'),\n",
       " 'TP_SFG_D1': dtype('int64'),\n",
       " 'TP_SFG_D2': dtype('int64'),\n",
       " 'TP_SCE_D1': dtype('int64'),\n",
       " 'TP_SCE_D2': dtype('int64'),\n",
       " 'TP_SCE_D3': dtype('int64'),\n",
       " 'NT_GER': dtype('float64'),\n",
       " 'NT_FG': dtype('float64'),\n",
       " 'NT_OBJ_FG': dtype('float64'),\n",
       " 'NT_DIS_FG': dtype('float64'),\n",
       " 'NT_FG_D1': dtype('float64'),\n",
       " 'NT_FG_D1_PT': dtype('float64'),\n",
       " 'NT_FG_D1_CT': dtype('float64'),\n",
       " 'NT_FG_D2': dtype('float64'),\n",
       " 'NT_FG_D2_PT': dtype('float64'),\n",
       " 'NT_FG_D2_CT': dtype('float64'),\n",
       " 'NT_CE': dtype('float64'),\n",
       " 'NT_OBJ_CE': dtype('float64'),\n",
       " 'NT_DIS_CE': dtype('float64'),\n",
       " 'NT_CE_D1': dtype('float64'),\n",
       " 'NT_CE_D2': dtype('float64'),\n",
       " 'NT_CE_D3': dtype('float64'),\n",
       " 'CO_RS_I1': dtype('O'),\n",
       " 'CO_RS_I2': dtype('O'),\n",
       " 'CO_RS_I3': dtype('O'),\n",
       " 'CO_RS_I4': dtype('O'),\n",
       " 'CO_RS_I5': dtype('O'),\n",
       " 'CO_RS_I6': dtype('O'),\n",
       " 'CO_RS_I7': dtype('O'),\n",
       " 'CO_RS_I8': dtype('O'),\n",
       " 'CO_RS_I9': dtype('O'),\n",
       " 'QE_I01': dtype('O'),\n",
       " 'QE_I02': dtype('O'),\n",
       " 'QE_I03': dtype('O'),\n",
       " 'QE_I04': dtype('O'),\n",
       " 'QE_I05': dtype('O'),\n",
       " 'QE_I06': dtype('O'),\n",
       " 'QE_I07': dtype('O'),\n",
       " 'QE_I08': dtype('O'),\n",
       " 'QE_I09': dtype('O'),\n",
       " 'QE_I10': dtype('O'),\n",
       " 'QE_I11': dtype('O'),\n",
       " 'QE_I12': dtype('O'),\n",
       " 'QE_I13': dtype('O'),\n",
       " 'QE_I14': dtype('O'),\n",
       " 'QE_I15': dtype('O'),\n",
       " 'QE_I16': dtype('float64'),\n",
       " 'QE_I17': dtype('O'),\n",
       " 'QE_I18': dtype('O'),\n",
       " 'QE_I19': dtype('O'),\n",
       " 'QE_I20': dtype('O'),\n",
       " 'QE_I21': dtype('O'),\n",
       " 'QE_I22': dtype('O'),\n",
       " 'QE_I23': dtype('O'),\n",
       " 'QE_I24': dtype('O'),\n",
       " 'QE_I25': dtype('O'),\n",
       " 'QE_I26': dtype('O'),\n",
       " 'QE_I27': dtype('float64'),\n",
       " 'QE_I28': dtype('float64'),\n",
       " 'QE_I29': dtype('float64'),\n",
       " 'QE_I30': dtype('float64'),\n",
       " 'QE_I31': dtype('float64'),\n",
       " 'QE_I32': dtype('float64'),\n",
       " 'QE_I33': dtype('float64'),\n",
       " 'QE_I34': dtype('float64'),\n",
       " 'QE_I35': dtype('float64'),\n",
       " 'QE_I36': dtype('float64'),\n",
       " 'QE_I37': dtype('float64'),\n",
       " 'QE_I38': dtype('float64'),\n",
       " 'QE_I39': dtype('float64'),\n",
       " 'QE_I40': dtype('float64'),\n",
       " 'QE_I41': dtype('float64'),\n",
       " 'QE_I42': dtype('float64'),\n",
       " 'QE_I43': dtype('float64'),\n",
       " 'QE_I44': dtype('float64'),\n",
       " 'QE_I45': dtype('float64'),\n",
       " 'QE_I46': dtype('float64'),\n",
       " 'QE_I47': dtype('float64'),\n",
       " 'QE_I48': dtype('float64'),\n",
       " 'QE_I49': dtype('float64'),\n",
       " 'QE_I50': dtype('float64'),\n",
       " 'QE_I51': dtype('float64'),\n",
       " 'QE_I52': dtype('float64'),\n",
       " 'QE_I53': dtype('float64'),\n",
       " 'QE_I54': dtype('float64'),\n",
       " 'QE_I55': dtype('float64'),\n",
       " 'QE_I56': dtype('float64'),\n",
       " 'QE_I57': dtype('float64'),\n",
       " 'QE_I58': dtype('float64'),\n",
       " 'QE_I59': dtype('float64'),\n",
       " 'QE_I60': dtype('float64'),\n",
       " 'QE_I61': dtype('float64'),\n",
       " 'QE_I62': dtype('float64'),\n",
       " 'QE_I63': dtype('float64'),\n",
       " 'QE_I64': dtype('float64'),\n",
       " 'QE_I65': dtype('float64'),\n",
       " 'QE_I66': dtype('float64'),\n",
       " 'QE_I67': dtype('float64'),\n",
       " 'QE_I68': dtype('float64')}"
      ]
     },
     "metadata": {},
     "execution_count": 6
    }
   ],
   "metadata": {}
  },
  {
   "cell_type": "markdown",
   "source": [
    "## Variáveis que serão utilizadas\r\n",
    "\r\n",
    "\r\n",
    "- CO_IES\r\n",
    "- CO_CATEGAD\r\n",
    "- CO_GRUPO\r\n",
    "- CO_MODALIDADE\r\n",
    "- CO_UF_CURSO\r\n",
    "- CO_REGIAO_CURSO\r\n",
    "- NU_IDADE\r\n",
    "- TP_SEXO\r\n",
    "- NT_GET\r\n",
    "- NT_FG\r\n",
    "- NT_CE\r\n",
    "\r\n",
    "mais alguns itens do questionário do estudante:\r\n",
    "- 01: Estado Civil\r\n",
    "- 02: Cor ou raça\r\n",
    "- 04: Escolaridade do pai\r\n",
    "- 05: Escolaridade da mãe\r\n",
    "- 08: Renda Familiar\r\n",
    "- 10: Situação de Trabalho\r\n",
    "- 11: Situação de bolsa\r\n",
    "- 14: Intercâmbio\r\n",
    "- 15: Cotas\r\n",
    "- 23: Horas de Estudo / semana\r\n",
    "- 25: Motivo de escolha do curso\r\n",
    "- 26: Motivo de esclha da IES\r\n",
    "  "
   ],
   "metadata": {}
  },
  {
   "cell_type": "code",
   "execution_count": 7,
   "source": [
    "# NT_GER\r\n",
    "enade.NT_GER.describe()"
   ],
   "outputs": [
    {
     "output_type": "execute_result",
     "data": {
      "text/plain": [
       "count    390135.000000\n",
       "mean         44.080390\n",
       "std          14.545807\n",
       "min           0.000000\n",
       "25%          33.200000\n",
       "50%          43.800000\n",
       "75%          54.800000\n",
       "max          93.000000\n",
       "Name: NT_GER, dtype: float64"
      ]
     },
     "metadata": {},
     "execution_count": 7
    }
   ],
   "metadata": {}
  },
  {
   "cell_type": "code",
   "execution_count": 10,
   "source": [
    "enade.shape"
   ],
   "outputs": [
    {
     "output_type": "execute_result",
     "data": {
      "text/plain": [
       "(433930, 137)"
      ]
     },
     "metadata": {},
     "execution_count": 10
    }
   ],
   "metadata": {}
  },
  {
   "cell_type": "code",
   "execution_count": 9,
   "source": [
    "# Contar o número de nulos\r\n",
    "enade.NT_GER.isnull().sum()"
   ],
   "outputs": [
    {
     "output_type": "execute_result",
     "data": {
      "text/plain": [
       "43795"
      ]
     },
     "metadata": {},
     "execution_count": 9
    }
   ],
   "metadata": {}
  },
  {
   "cell_type": "code",
   "execution_count": 11,
   "source": [
    "enade.NT_GER.isnull().sum() / enade.shape[0]"
   ],
   "outputs": [
    {
     "output_type": "execute_result",
     "data": {
      "text/plain": [
       "0.10092641670315489"
      ]
     },
     "metadata": {},
     "execution_count": 11
    }
   ],
   "metadata": {}
  },
  {
   "cell_type": "code",
   "execution_count": 15,
   "source": [
    "# Acessando estatísticas descritivas da NOTA GERAL apenas para a Região Centro-oeste\r\n",
    "enade.loc[\r\n",
    "    enade.CO_REGIAO_CURSO == 5\r\n",
    "].NT_GER.describe()"
   ],
   "outputs": [
    {
     "output_type": "execute_result",
     "data": {
      "text/plain": [
       "count    30769.000000\n",
       "mean        44.604609\n",
       "std         14.489081\n",
       "min          0.000000\n",
       "25%         33.900000\n",
       "50%         44.500000\n",
       "75%         55.300000\n",
       "max         91.600000\n",
       "Name: NT_GER, dtype: float64"
      ]
     },
     "metadata": {},
     "execution_count": 15
    }
   ],
   "metadata": {}
  },
  {
   "cell_type": "code",
   "execution_count": 16,
   "source": [
    "#Filtro notas acima de zero\r\n",
    "enade.loc[\r\n",
    "    enade.NT_GER > 0\r\n",
    "].NT_GER.describe()"
   ],
   "outputs": [
    {
     "output_type": "execute_result",
     "data": {
      "text/plain": [
       "count    389774.000000\n",
       "mean         44.121216\n",
       "std          14.490519\n",
       "min           0.300000\n",
       "25%          33.300000\n",
       "50%          43.800000\n",
       "75%          54.800000\n",
       "max          93.000000\n",
       "Name: NT_GER, dtype: float64"
      ]
     },
     "metadata": {},
     "execution_count": 16
    }
   ],
   "metadata": {}
  },
  {
   "cell_type": "code",
   "execution_count": 23,
   "source": [
    "#Filtro alunos entre 20 e 50 anos\r\n",
    "enade.loc[\r\n",
    "    (enade.NU_IDADE >= 20) & (enade.NU_IDADE <= 50)\r\n",
    "\r\n",
    "].shape\r\n"
   ],
   "outputs": [
    {
     "output_type": "execute_result",
     "data": {
      "text/plain": [
       "(429019, 137)"
      ]
     },
     "metadata": {},
     "execution_count": 23
    }
   ],
   "metadata": {}
  },
  {
   "cell_type": "code",
   "execution_count": 24,
   "source": [
    "#Filtro alunos entre 20 e 50 anos\r\n",
    "enade.loc[\r\n",
    "    (enade.NU_IDADE >= 20) & (enade.NU_IDADE <= 50)\r\n",
    "\r\n",
    "].NT_GER.describe()"
   ],
   "outputs": [
    {
     "output_type": "execute_result",
     "data": {
      "text/plain": [
       "count    385957.000000\n",
       "mean         44.153317\n",
       "std          14.531880\n",
       "min           0.000000\n",
       "25%          33.300000\n",
       "50%          43.900000\n",
       "75%          54.800000\n",
       "max          93.000000\n",
       "Name: NT_GER, dtype: float64"
      ]
     },
     "metadata": {},
     "execution_count": 24
    }
   ],
   "metadata": {}
  },
  {
   "cell_type": "code",
   "execution_count": 27,
   "source": [
    "# Tabela cruzada\r\n",
    "# Contas por gênero\r\n",
    "\r\n",
    "enade.TP_SEXO.value_counts() "
   ],
   "outputs": [
    {
     "output_type": "execute_result",
     "data": {
      "text/plain": [
       "F    233279\n",
       "M    200651\n",
       "Name: TP_SEXO, dtype: int64"
      ]
     },
     "metadata": {},
     "execution_count": 27
    }
   ],
   "metadata": {}
  },
  {
   "cell_type": "code",
   "execution_count": 26,
   "source": [
    "# Tabela cruzada\r\n",
    "# Contas por gênero\r\n",
    "\r\n",
    "enade.TP_SEXO.value_counts() / enade.shape[0]"
   ],
   "outputs": [
    {
     "output_type": "execute_result",
     "data": {
      "text/plain": [
       "F    0.537596\n",
       "M    0.462404\n",
       "Name: TP_SEXO, dtype: float64"
      ]
     },
     "metadata": {},
     "execution_count": 26
    }
   ],
   "metadata": {}
  },
  {
   "cell_type": "code",
   "execution_count": 29,
   "source": [
    "# Comparação por região de notas\r\n",
    "# média simples\r\n",
    "\r\n",
    "enade[['NT_GER', 'NT_FG', 'NT_CE']].describe()\r\n"
   ],
   "outputs": [
    {
     "output_type": "execute_result",
     "data": {
      "text/html": [
       "<div>\n",
       "<style scoped>\n",
       "    .dataframe tbody tr th:only-of-type {\n",
       "        vertical-align: middle;\n",
       "    }\n",
       "\n",
       "    .dataframe tbody tr th {\n",
       "        vertical-align: top;\n",
       "    }\n",
       "\n",
       "    .dataframe thead th {\n",
       "        text-align: right;\n",
       "    }\n",
       "</style>\n",
       "<table border=\"1\" class=\"dataframe\">\n",
       "  <thead>\n",
       "    <tr style=\"text-align: right;\">\n",
       "      <th></th>\n",
       "      <th>NT_GER</th>\n",
       "      <th>NT_FG</th>\n",
       "      <th>NT_CE</th>\n",
       "    </tr>\n",
       "  </thead>\n",
       "  <tbody>\n",
       "    <tr>\n",
       "      <th>count</th>\n",
       "      <td>390135.000000</td>\n",
       "      <td>390135.000000</td>\n",
       "      <td>390135.000000</td>\n",
       "    </tr>\n",
       "    <tr>\n",
       "      <th>mean</th>\n",
       "      <td>44.080390</td>\n",
       "      <td>39.838931</td>\n",
       "      <td>45.477586</td>\n",
       "    </tr>\n",
       "    <tr>\n",
       "      <th>std</th>\n",
       "      <td>14.545807</td>\n",
       "      <td>16.241311</td>\n",
       "      <td>16.646806</td>\n",
       "    </tr>\n",
       "    <tr>\n",
       "      <th>min</th>\n",
       "      <td>0.000000</td>\n",
       "      <td>0.000000</td>\n",
       "      <td>0.000000</td>\n",
       "    </tr>\n",
       "    <tr>\n",
       "      <th>25%</th>\n",
       "      <td>33.200000</td>\n",
       "      <td>28.500000</td>\n",
       "      <td>32.900000</td>\n",
       "    </tr>\n",
       "    <tr>\n",
       "      <th>50%</th>\n",
       "      <td>43.800000</td>\n",
       "      <td>39.300000</td>\n",
       "      <td>45.200000</td>\n",
       "    </tr>\n",
       "    <tr>\n",
       "      <th>75%</th>\n",
       "      <td>54.800000</td>\n",
       "      <td>51.300000</td>\n",
       "      <td>57.800000</td>\n",
       "    </tr>\n",
       "    <tr>\n",
       "      <th>max</th>\n",
       "      <td>93.000000</td>\n",
       "      <td>97.800000</td>\n",
       "      <td>100.000000</td>\n",
       "    </tr>\n",
       "  </tbody>\n",
       "</table>\n",
       "</div>"
      ],
      "text/plain": [
       "              NT_GER          NT_FG          NT_CE\n",
       "count  390135.000000  390135.000000  390135.000000\n",
       "mean       44.080390      39.838931      45.477586\n",
       "std        14.545807      16.241311      16.646806\n",
       "min         0.000000       0.000000       0.000000\n",
       "25%        33.200000      28.500000      32.900000\n",
       "50%        43.800000      39.300000      45.200000\n",
       "75%        54.800000      51.300000      57.800000\n",
       "max        93.000000      97.800000     100.000000"
      ]
     },
     "metadata": {},
     "execution_count": 29
    }
   ],
   "metadata": {}
  },
  {
   "cell_type": "code",
   "execution_count": 30,
   "source": [
    "enade.groupby('CO_REGIAO_CURSO').agg({\r\n",
    "    \"NT_GER\": \"mean\",\r\n",
    "    \"NT_FG\": \"mean\",\r\n",
    "    \"NT_CE\": \"mean\"\r\n",
    "\r\n",
    "})"
   ],
   "outputs": [
    {
     "output_type": "execute_result",
     "data": {
      "text/html": [
       "<div>\n",
       "<style scoped>\n",
       "    .dataframe tbody tr th:only-of-type {\n",
       "        vertical-align: middle;\n",
       "    }\n",
       "\n",
       "    .dataframe tbody tr th {\n",
       "        vertical-align: top;\n",
       "    }\n",
       "\n",
       "    .dataframe thead th {\n",
       "        text-align: right;\n",
       "    }\n",
       "</style>\n",
       "<table border=\"1\" class=\"dataframe\">\n",
       "  <thead>\n",
       "    <tr style=\"text-align: right;\">\n",
       "      <th></th>\n",
       "      <th>NT_GER</th>\n",
       "      <th>NT_FG</th>\n",
       "      <th>NT_CE</th>\n",
       "    </tr>\n",
       "    <tr>\n",
       "      <th>CO_REGIAO_CURSO</th>\n",
       "      <th></th>\n",
       "      <th></th>\n",
       "      <th></th>\n",
       "    </tr>\n",
       "  </thead>\n",
       "  <tbody>\n",
       "    <tr>\n",
       "      <th>1</th>\n",
       "      <td>40.282753</td>\n",
       "      <td>37.119037</td>\n",
       "      <td>41.320522</td>\n",
       "    </tr>\n",
       "    <tr>\n",
       "      <th>2</th>\n",
       "      <td>43.788555</td>\n",
       "      <td>40.057649</td>\n",
       "      <td>45.015455</td>\n",
       "    </tr>\n",
       "    <tr>\n",
       "      <th>3</th>\n",
       "      <td>44.016319</td>\n",
       "      <td>40.144793</td>\n",
       "      <td>45.290297</td>\n",
       "    </tr>\n",
       "    <tr>\n",
       "      <th>4</th>\n",
       "      <td>45.767208</td>\n",
       "      <td>40.087748</td>\n",
       "      <td>47.643763</td>\n",
       "    </tr>\n",
       "    <tr>\n",
       "      <th>5</th>\n",
       "      <td>44.604609</td>\n",
       "      <td>39.180022</td>\n",
       "      <td>46.396032</td>\n",
       "    </tr>\n",
       "  </tbody>\n",
       "</table>\n",
       "</div>"
      ],
      "text/plain": [
       "                    NT_GER      NT_FG      NT_CE\n",
       "CO_REGIAO_CURSO                                 \n",
       "1                40.282753  37.119037  41.320522\n",
       "2                43.788555  40.057649  45.015455\n",
       "3                44.016319  40.144793  45.290297\n",
       "4                45.767208  40.087748  47.643763\n",
       "5                44.604609  39.180022  46.396032"
      ]
     },
     "metadata": {},
     "execution_count": 30
    }
   ],
   "metadata": {}
  },
  {
   "cell_type": "markdown",
   "source": [
    "## Aula 2.2.2\r\n",
    "\r\n",
    "Transformação dos Microdados do Enade 2019 | zip (Atualizado em 13/05/2021)"
   ],
   "metadata": {}
  },
  {
   "cell_type": "code",
   "execution_count": 31,
   "source": [
    "\r\n",
    "\r\n",
    "enade['DESC_PUBLICA'] = \"\"\r\n",
    "\r\n",
    "enade.loc[\r\n",
    "    enade.CO_CATEGAD.isin([118, 120, 121, 10005, 10006, 10007, 10008, 10008, 17634]),\r\n",
    "    \"DESC_PUBLICA\"\r\n",
    "] = \"Privado\""
   ],
   "outputs": [],
   "metadata": {}
  },
  {
   "cell_type": "code",
   "execution_count": 32,
   "source": [
    "enade.loc[\r\n",
    "     enade.CO_CATEGAD.isin([93, 115, 116, 10001, 10002, 10003]),\r\n",
    "      \"DESC_PUBLICA\"\r\n",
    "]= \"Público\""
   ],
   "outputs": [],
   "metadata": {}
  },
  {
   "cell_type": "code",
   "execution_count": 34,
   "source": [
    "enade.DESC_PUBLICA.value_counts() / enade.shape[0]"
   ],
   "outputs": [
    {
     "output_type": "execute_result",
     "data": {
      "text/plain": [
       "Privado    0.765580\n",
       "Público    0.232690\n",
       "           0.001731\n",
       "Name: DESC_PUBLICA, dtype: float64"
      ]
     },
     "metadata": {},
     "execution_count": 34
    }
   ],
   "metadata": {}
  },
  {
   "cell_type": "code",
   "execution_count": 37,
   "source": [
    "\r\n",
    "enade.CO_MODALIDADE.value_counts()"
   ],
   "outputs": [
    {
     "output_type": "execute_result",
     "data": {
      "text/plain": [
       "1    410542\n",
       "0     23388\n",
       "Name: CO_MODALIDADE, dtype: int64"
      ]
     },
     "metadata": {},
     "execution_count": 37
    }
   ],
   "metadata": {}
  },
  {
   "cell_type": "code",
   "execution_count": 39,
   "source": [
    "# Transformar a modalidade\r\n",
    "enade['CO_MODALIDADE']=enade.CO_MODALIDADE.replace({\r\n",
    "    0: 'EaD',\r\n",
    "    1: 'Presencial'\r\n",
    "})"
   ],
   "outputs": [],
   "metadata": {}
  },
  {
   "cell_type": "code",
   "execution_count": 40,
   "source": [
    "enade.CO_MODALIDADE.value_counts()"
   ],
   "outputs": [
    {
     "output_type": "execute_result",
     "data": {
      "text/plain": [
       "Presencial    410542\n",
       "EaD            23388\n",
       "Name: CO_MODALIDADE, dtype: int64"
      ]
     },
     "metadata": {},
     "execution_count": 40
    }
   ],
   "metadata": {}
  },
  {
   "cell_type": "code",
   "execution_count": 41,
   "source": [
    "# Transformar região\r\n",
    "\r\n",
    "enade['CO_REGIAO_CURSO']=enade.CO_REGIAO_CURSO.replace({\r\n",
    "    1: 'Norte',\r\n",
    "    2: 'Nordeste',\r\n",
    "    3: 'Sudeste',\r\n",
    "    4: 'Sul',\r\n",
    "    5: 'CEntro-Oeste',\r\n",
    "})"
   ],
   "outputs": [],
   "metadata": {}
  },
  {
   "cell_type": "code",
   "execution_count": 42,
   "source": [
    "enade.CO_REGIAO_CURSO.value_counts()"
   ],
   "outputs": [
    {
     "output_type": "execute_result",
     "data": {
      "text/plain": [
       "Sudeste         202505\n",
       "Nordeste         91742\n",
       "Sul              76788\n",
       "CEntro-Oeste     34192\n",
       "Norte            28703\n",
       "Name: CO_REGIAO_CURSO, dtype: int64"
      ]
     },
     "metadata": {},
     "execution_count": 42
    }
   ],
   "metadata": {}
  },
  {
   "cell_type": "code",
   "execution_count": 44,
   "source": [
    "# Transformar por cor ou raça\r\n",
    "enade['DESC_COR']=enade.QE_I02.replace({\r\n",
    "    'A': 'Branca',\r\n",
    "    'B': 'Preta',\r\n",
    "    'C': 'Amarela',\r\n",
    "    'D': 'Parda',\r\n",
    "    'E': 'Indígena',\r\n",
    "    'F': pd.NA,\r\n",
    "    ' ': pd.NA\r\n",
    "})"
   ],
   "outputs": [],
   "metadata": {}
  },
  {
   "cell_type": "code",
   "execution_count": 45,
   "source": [
    "enade.QE_I02.value_counts()"
   ],
   "outputs": [
    {
     "output_type": "execute_result",
     "data": {
      "text/plain": [
       "A    220386\n",
       "D    135770\n",
       "B     32869\n",
       "C     10093\n",
       "F      7456\n",
       "E      1300\n",
       "Name: QE_I02, dtype: int64"
      ]
     },
     "metadata": {},
     "execution_count": 45
    }
   ],
   "metadata": {}
  },
  {
   "cell_type": "code",
   "execution_count": 46,
   "source": [
    "enade.DESC_COR.value_counts()"
   ],
   "outputs": [
    {
     "output_type": "execute_result",
     "data": {
      "text/plain": [
       "Branca      220386\n",
       "Parda       135770\n",
       "Preta        32869\n",
       "Amarela      10093\n",
       "Indígena      1300\n",
       "Name: DESC_COR, dtype: int64"
      ]
     },
     "metadata": {},
     "execution_count": 46
    }
   ],
   "metadata": {}
  },
  {
   "cell_type": "markdown",
   "source": [
    "# Algumas perguntas"
   ],
   "metadata": {}
  },
  {
   "cell_type": "markdown",
   "source": [
    "1. Qual é a nota geral média dos alunos da região Nordeste?"
   ],
   "metadata": {}
  },
  {
   "cell_type": "code",
   "execution_count": 49,
   "source": [
    "enade.loc[\r\n",
    "    enade.CO_REGIAO_CURSO == \"Nordeste\",\r\n",
    "    \"NT_GER\"\r\n",
    "].mean()"
   ],
   "outputs": [
    {
     "output_type": "execute_result",
     "data": {
      "text/plain": [
       "43.78855492862657"
      ]
     },
     "metadata": {},
     "execution_count": 49
    }
   ],
   "metadata": {}
  },
  {
   "cell_type": "markdown",
   "source": [
    "2. Qual é a média da nota do componente específico dos alunos do Rio Grande do Sul de cursos de Engenharia Elétrica?"
   ],
   "metadata": {}
  },
  {
   "cell_type": "code",
   "execution_count": 51,
   "source": [
    "enade.loc[\r\n",
    "    (enade.CO_UF_CURSO == 43) &\r\n",
    "    (enade.CO_GRUPO == 5806),\r\n",
    "    \"NT_CE\"\r\n",
    "].mean()"
   ],
   "outputs": [
    {
     "output_type": "execute_result",
     "data": {
      "text/plain": [
       "34.79692671394829"
      ]
     },
     "metadata": {},
     "execution_count": 51
    }
   ],
   "metadata": {}
  },
  {
   "cell_type": "markdown",
   "source": [
    "3. Qual é a média da nota do componente de formação geral de alunas do sexo feminino, partas, de Minas Gerais, em cursos presenciais de Engenharia de Produção?"
   ],
   "metadata": {}
  },
  {
   "cell_type": "code",
   "execution_count": 54,
   "source": [
    "enade.loc[\r\n",
    "    (enade.TP_SEXO == 'F') &\r\n",
    "    (enade.DESC_COR == 'Parda') &\r\n",
    "    (enade.CO_UF_CURSO == 31) &\r\n",
    "    (enade.CO_MODALIDADE == 'Presencial') &\r\n",
    "    (enade.CO_GRUPO == 6208),\r\n",
    "    \"NT_FG\"\r\n",
    "].mean()"
   ],
   "outputs": [
    {
     "output_type": "execute_result",
     "data": {
      "text/plain": [
       "40.19142394822005"
      ]
     },
     "metadata": {},
     "execution_count": 54
    }
   ],
   "metadata": {}
  },
  {
   "cell_type": "markdown",
   "source": [
    "# Fim da Transformação e Análises"
   ],
   "metadata": {}
  }
 ],
 "metadata": {
  "orig_nbformat": 4,
  "language_info": {
   "name": "python",
   "version": "3.8.8",
   "mimetype": "text/x-python",
   "codemirror_mode": {
    "name": "ipython",
    "version": 3
   },
   "pygments_lexer": "ipython3",
   "nbconvert_exporter": "python",
   "file_extension": ".py"
  },
  "kernelspec": {
   "name": "python3",
   "display_name": "Python 3.8.8 64-bit ('base': conda)"
  },
  "interpreter": {
   "hash": "ee00a69fe1ad94bffd6af735746b41b6033db668e5bcf4a7ef0533a871a2edb6"
  }
 },
 "nbformat": 4,
 "nbformat_minor": 2
}