{
 "cells": [
  {
   "cell_type": "markdown",
   "source": [
    "# Trabalho Prático do Módulo 4\r\n",
    "\r\n",
    "## Pipeline de Dados - Enem 2019"
   ],
   "metadata": {}
  },
  {
   "cell_type": "markdown",
   "source": [
    "## Atividades:\r\n",
    "\r\n",
    "Você deverá desempenhar as seguintes atividades:\r\n",
    "\r\n",
    "1. Extrair, de maneira programática, os dados do ENEM 2019.\r\n",
    "2. Filtrar apenas os alunos do estado de Minas Gerais.\r\n",
    "3. Salvar um arquivo CSV com os dados já limpos em seu computador.\r\n",
    "4.  Escrever os dados numa tabela relacional em uma base de dados de sua escolha \r\n",
    "(MySQL, PostgreSQL, SQL Server etc.)."
   ],
   "metadata": {}
  },
  {
   "cell_type": "markdown",
   "source": [
    "__Site do Ibep >> Microdados >> Enem:__\r\n",
    "\r\n",
    "\r\n",
    "https://www.gov.br/inep/pt-br/acesso-a-informacao/dados-abertos/microdados/enem\r\n",
    "\r\n",
    "__Url do zip do microdados do Enem-2019:__\r\n",
    "\r\n",
    "\r\n",
    "https://download.inep.gov.br/microdados/microdados_enem_2019.zip"
   ],
   "metadata": {}
  },
  {
   "cell_type": "markdown",
   "source": [
    "### Extração dos dados"
   ],
   "metadata": {}
  },
  {
   "cell_type": "code",
   "execution_count": 1,
   "source": [
    "# Importar bibliotecas\r\n",
    "\r\n",
    "import pandas as pd \r\n",
    "import numpy as np \r\n",
    "import zipfile\r\n",
    "import requests\r\n",
    "from io import BytesIO\r\n",
    "import os"
   ],
   "outputs": [],
   "metadata": {}
  },
  {
   "cell_type": "code",
   "execution_count": 2,
   "source": [
    "# Criar um diretório para armazenar o conteúdo do ENEM\r\n",
    "\r\n",
    "os.makedirs('./enem2019', exist_ok=True)"
   ],
   "outputs": [],
   "metadata": {}
  },
  {
   "cell_type": "code",
   "execution_count": null,
   "source": [
    "# Define a url \r\n",
    "url = \"https://download.inep.gov.br/microdados/microdados_enem_2019.zip\"\r\n",
    "\r\n",
    "# Download do conteúdo da url\r\n",
    "filebytes = BytesIO(\r\n",
    "    requests.get(url).content\r\n",
    ")\r\n",
    "\r\n",
    "# Descompactação do zip\r\n",
    "myzip = zipfile.ZipFile(filebytes)\r\n",
    "\r\n",
    "# Pasta destino da descompactação\r\n",
    "myzip.extractall(\"./enem2019\")"
   ],
   "outputs": [],
   "metadata": {}
  }
 ],
 "metadata": {
  "orig_nbformat": 4,
  "language_info": {
   "name": "python",
   "version": "3.8.8",
   "mimetype": "text/x-python",
   "codemirror_mode": {
    "name": "ipython",
    "version": 3
   },
   "pygments_lexer": "ipython3",
   "nbconvert_exporter": "python",
   "file_extension": ".py"
  },
  "kernelspec": {
   "name": "python3",
   "display_name": "Python 3.8.8 64-bit ('base': conda)"
  },
  "interpreter": {
   "hash": "ee00a69fe1ad94bffd6af735746b41b6033db668e5bcf4a7ef0533a871a2edb6"
  }
 },
 "nbformat": 4,
 "nbformat_minor": 2
}